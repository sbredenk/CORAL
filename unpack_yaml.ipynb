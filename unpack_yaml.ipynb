{
 "cells": [
  {
   "cell_type": "code",
   "execution_count": 6,
   "metadata": {},
   "outputs": [],
   "source": [
    "import yaml\n",
    "import datetime as dt"
   ]
  },
  {
   "cell_type": "code",
   "execution_count": 7,
   "metadata": {},
   "outputs": [],
   "source": [
    "data = {\n",
    "    'description': [\n",
    "        'Pipeline: Baseline',\n",
    "        'Vessel Pathway: Unconstrained',\n",
    "        'Port Pathway: Base'\n",
    "    ]   \n",
    "}"
   ]
  },
  {
   "cell_type": "code",
   "execution_count": 8,
   "metadata": {},
   "outputs": [],
   "source": [
    "with open('data.yml', 'w') as outfile:\n",
    "    yaml.dump(data, outfile, default_flow_style=False)"
   ]
  },
  {
   "cell_type": "code",
   "execution_count": 14,
   "metadata": {},
   "outputs": [],
   "source": [
    "def tuple_constructor(loader, node):\n",
    "    # Load the sequence of values from the YAML node\n",
    "    values = loader.construct_sequence(node)\n",
    "    # Return a tuple constructed from the sequence\n",
    "    return tuple(values)\n",
    "\n",
    "# Register the constructor with PyYAML\n",
    "yaml.SafeLoader.add_constructor('tag:yaml.org,2002:python/tuple', \n",
    "tuple_constructor)\n",
    "\n",
    "with open('data.yml') as f:\n",
    "    d = yaml.load(f.read(), Loader=yaml.SafeLoader)"
   ]
  },
  {
   "cell_type": "code",
   "execution_count": 15,
   "metadata": {},
   "outputs": [
    {
     "name": "stdout",
     "output_type": "stream",
     "text": [
      "{'future_resources': [['wtiv', 'example_wtiv', [datetime.date(2025, 1, 1), datetime.date(2025, 1, 1), datetime.date(2025, 1, 1), datetime.date(2026, 1, 1)]], ['feeder', 'example_heavy_feeder', [datetime.date(2025, 1, 1), datetime.date(2025, 1, 1), datetime.date(2025, 1, 1), datetime.date(2025, 1, 1)]], ['port', 'sbmt', [datetime.date(2027, 1, 1)]], ['port', 'njwp', [datetime.date(2025, 1, 1), datetime.date(2029, 1, 1)]], ['port', 'tradepoint', [datetime.date(2025, 1, 1)]], ['port', 'portsmouth', [datetime.date(2024, 1, 1)]], ['port', 'searsport', [datetime.date(2025, 1, 1)]]]}\n"
     ]
    }
   ],
   "source": [
    "print(d)"
   ]
  },
  {
   "cell_type": "code",
   "execution_count": 8,
   "metadata": {},
   "outputs": [
    {
     "data": {
      "text/plain": [
       "{'ahts_vessel': ('example_ahts_vessel', 100),\n",
       " 'feeder': ('example_heavy_feeder', 100),\n",
       " 'port': [('new_london', 1),\n",
       "  ('new_bedford', 1),\n",
       "  ('sbmt', 0),\n",
       "  ('njwp', 0),\n",
       "  ('searsport', 1),\n",
       "  ('tradepoint', 0),\n",
       "  ('portsmouth', 0),\n",
       "  ('salem', 1)],\n",
       " 'towing_vessel': ('example_towing_vessel', 100),\n",
       " 'wtiv': [('example_heavy_lift_vessel', 100), ('example_wtiv', 100)]}"
      ]
     },
     "execution_count": 8,
     "metadata": {},
     "output_type": "execute_result"
    }
   ],
   "source": [
    "d['allocations']"
   ]
  },
  {
   "cell_type": "code",
   "execution_count": null,
   "metadata": {},
   "outputs": [],
   "source": []
  }
 ],
 "metadata": {
  "kernelspec": {
   "display_name": "coral",
   "language": "python",
   "name": "python3"
  },
  "language_info": {
   "codemirror_mode": {
    "name": "ipython",
    "version": 3
   },
   "file_extension": ".py",
   "mimetype": "text/x-python",
   "name": "python",
   "nbconvert_exporter": "python",
   "pygments_lexer": "ipython3",
   "version": "3.7.16"
  },
  "orig_nbformat": 4
 },
 "nbformat": 4,
 "nbformat_minor": 2
}
