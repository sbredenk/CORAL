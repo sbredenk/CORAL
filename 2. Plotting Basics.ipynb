{
 "cells": [
  {
   "cell_type": "code",
   "execution_count": 1,
   "metadata": {},
   "outputs": [],
   "source": [
    "import pandas as pd\n",
    "import datetime as dt\n",
    "import os"
   ]
  },
  {
   "attachments": {},
   "cell_type": "markdown",
   "metadata": {},
   "source": [
    "# CORAL Plotting"
   ]
  },
  {
   "attachments": {},
   "cell_type": "markdown",
   "metadata": {},
   "source": [
    "describe plotting overview"
   ]
  },
  {
   "cell_type": "code",
   "execution_count": null,
   "metadata": {},
   "outputs": [],
   "source": [
    "# CORAL run: for breadown see Introduction\n",
    "\n",
    "# import ORBIT path\n",
    "import sys\n",
    "sys.path.insert(0, '/Users/sbredenk/Repos/ORBIT_natl_gaps')\n",
    "\n",
    "# import CORAL modules\n",
    "from CORAL import SharedLibrary, GlobalManager, Pipeline\n",
    "\n",
    "# paths\n",
    "base_fixed_config = os.path.join(os.getcwd(), \"analysis\", \"configs\", \"base.yaml\")\n",
    "base_floating_config = os.path.join(os.getcwd(), \"analysis\", \"configs\", \"base_float.yaml\")\n",
    "library_fp = os.path.join(os.getcwd(), \"analysis\", \"library\")\n",
    "pipeline_fp = os.path.join(os.getcwd(), \"analysis\", \"pipelines\", \"coral_ex_pipeline.csv\")\n",
    "\n",
    "# allocations\n",
    "allocations = {\n",
    "    \"wtiv\": [('example_heavy_lift_vessel', 2),('example_wtiv', 2)],\n",
    "    \"feeder\": [('example_feeder', 6), ('example_heavy_feeder_1kit', 6)],\n",
    "    \"port\": [('new_london', 1), ('new_bedford', 1), ('sbmt', 1), ('njwp', 1)],\n",
    "    \"ahts_vessel\": ('example_ahts_vessel', 2),\n",
    "    \"towing_vessel\": ('example_towing_vessel', 2),\n",
    "}\n",
    "\n",
    "# weather\n",
    "weather_fp = os.path.join(os.getcwd(), \"analysis\", \"library\", \"weather\", \"vineyard_wind_repr_with_whales.csv\")\n",
    "weather = pd.read_csv(weather_fp, parse_dates=[\"datetime\"]).set_index(\"datetime\")\n",
    "\n",
    "# future resources: define dates for future resource to join the pool\n",
    "wtiv_future_dates = [dt.date(2025,1,1), dt.date(2030,1,1)]\n",
    "sbmt_future_dates = [dt.date(2032,1,1)]\n",
    "\n",
    "pipeline = Pipeline(pipeline_fp, base_fixed_config, base_floating_config)\n",
    "manager = GlobalManager(pipeline.configs, allocations, library_path=library_fp)\n",
    "manager.add_future_resources('wtiv', 'example_wtiv', wtiv_future_dates)\n",
    "manager.add_future_resources('port', 'sbmt', sbmt_future_dates)\n",
    "manager.run()"
   ]
  },
  {
   "attachments": {},
   "cell_type": "markdown",
   "metadata": {},
   "source": [
    "# "
   ]
  }
 ],
 "metadata": {
  "kernelspec": {
   "display_name": "coral",
   "language": "python",
   "name": "python3"
  },
  "language_info": {
   "codemirror_mode": {
    "name": "ipython",
    "version": 3
   },
   "file_extension": ".py",
   "mimetype": "text/x-python",
   "name": "python",
   "nbconvert_exporter": "python",
   "pygments_lexer": "ipython3",
   "version": "3.7.16"
  },
  "orig_nbformat": 4
 },
 "nbformat": 4,
 "nbformat_minor": 2
}
