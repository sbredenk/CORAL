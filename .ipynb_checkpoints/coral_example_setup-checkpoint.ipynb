{
 "cells": [
  {
   "cell_type": "markdown",
   "id": "04b3a160-e536-488e-aab0-567bcccb88d6",
   "metadata": {},
   "source": [
    "## Import required dependancies"
   ]
  },
  {
   "cell_type": "markdown",
   "id": "e2b23857-2b05-44d2-b469-814da82c76f2",
   "metadata": {},
   "source": [
    "CORAL uses ORBIT to determine installation times, therefore the file paths for both CORAL and ORBIT must be included"
   ]
  },
  {
   "cell_type": "code",
   "execution_count": 1,
   "id": "81169812-d56f-4efd-aac1-8c7710954bbb",
   "metadata": {},
   "outputs": [],
   "source": [
    "import sys\n",
    "sys.path.insert(0, '/Users/sbredenk/Repos/CORAL_analysis/CORAL')\n",
    "sys.path.insert(0, '/Users/sbredenk/Repos/ORBIT')\n",
    "from CORAL import SharedLibrary, GlobalManager, Pipeline"
   ]
  },
  {
   "cell_type": "markdown",
   "id": "3e48f2ef-29fa-40ec-a1b5-104218817496",
   "metadata": {},
   "source": [
    "pull file paths for projects, configuration, and libraries"
   ]
  },
  {
   "cell_type": "code",
   "execution_count": 2,
   "id": "b9697394-a864-48c4-8175-607e6f07ac24",
   "metadata": {},
   "outputs": [],
   "source": [
    "import os\n",
    "projects = os.path.join(os.getcwd(), \"example_analysis\", \"pipelines\", \"example_pipeline.csv\")\n",
    "base = os.path.join(os.getcwd(), \"example_analysis\", \"base.yaml\")\n",
    "library = os.path.join(os.getcwd(), \"example_analysis\", \"library\")"
   ]
  },
  {
   "cell_type": "markdown",
   "id": "fd39c353-4440-427b-ab3a-54229e0783d5",
   "metadata": {},
   "source": [
    "## Setup pipeline for run"
   ]
  },
  {
   "cell_type": "markdown",
   "id": "730919b8-e6ac-4b78-9a72-e6889bad443c",
   "metadata": {},
   "source": [
    "Provide allocations for all shared vessels. Include the vessel name in the library and the number of vessels in the shared pool as a tuple. Include ports as a list of tuples with each entry including the port region and number of ports in that region."
   ]
  },
  {
   "cell_type": "code",
   "execution_count": 5,
   "id": "f4cbd43e-6d77-4d6b-85ec-fe15fef71141",
   "metadata": {},
   "outputs": [],
   "source": [
    "pipeline = Pipeline(projects, base)\n",
    "\n",
    "allocations = {\n",
    "    # \"wtiv\": ('example_wtiv', 2),\n",
    "    \"wtiv\": ('example_heavy_lift_vessel', 2),\n",
    "    \"feeder\": ('example_heavy_feeder', 6),\n",
    "    \"port\": [('northeast', 1), ('central', 1), ('south', 1)],\n",
    "}"
   ]
  },
  {
   "cell_type": "markdown",
   "id": "7186eebf-48bd-4fe2-8863-30cb06abad51",
   "metadata": {},
   "source": [
    "## Run CORAL"
   ]
  },
  {
   "cell_type": "code",
   "execution_count": 6,
   "id": "e5d71cb6-f0d4-44f5-8939-3e6a6d1fd348",
   "metadata": {},
   "outputs": [
    {
     "ename": "KeyError",
     "evalue": "'example_wtiv'",
     "output_type": "error",
     "traceback": [
      "\u001b[1;31m---------------------------------------------------------------------------\u001b[0m",
      "\u001b[1;31mKeyError\u001b[0m                                  Traceback (most recent call last)",
      "\u001b[1;32m/Users/sbredenk/Repos/CORAL\\CORAL\\manager.py\u001b[0m in \u001b[0;36m_initialize\u001b[1;34m(self, name, start, config)\u001b[0m\n\u001b[0;32m    182\u001b[0m         \u001b[0mrequest\u001b[0m \u001b[1;33m=\u001b[0m \u001b[0mMultiRequest\u001b[0m\u001b[1;33m(\u001b[0m\u001b[0mself\u001b[0m\u001b[1;33m.\u001b[0m\u001b[0menv\u001b[0m\u001b[1;33m,\u001b[0m \u001b[0mdict\u001b[0m\u001b[1;33m(\u001b[0m\u001b[0mresources\u001b[0m\u001b[1;33m)\u001b[0m\u001b[1;33m,\u001b[0m \u001b[0mname\u001b[0m\u001b[1;33m)\u001b[0m\u001b[1;33m\u001b[0m\u001b[1;33m\u001b[0m\u001b[0m\n\u001b[1;32m--> 183\u001b[1;33m         \u001b[0mresource_data\u001b[0m \u001b[1;33m=\u001b[0m \u001b[0mself\u001b[0m\u001b[1;33m.\u001b[0m\u001b[0mlibrary\u001b[0m\u001b[1;33m.\u001b[0m\u001b[0mrequest\u001b[0m\u001b[1;33m(\u001b[0m\u001b[0mrequest\u001b[0m\u001b[1;33m)\u001b[0m\u001b[1;33m\u001b[0m\u001b[1;33m\u001b[0m\u001b[0m\n\u001b[0m\u001b[0;32m    184\u001b[0m         \u001b[1;32myield\u001b[0m \u001b[0mrequest\u001b[0m\u001b[1;33m.\u001b[0m\u001b[0mtrigger\u001b[0m\u001b[1;33m\u001b[0m\u001b[1;33m\u001b[0m\u001b[0m\n",
      "\u001b[1;32m/Users/sbredenk/Repos/CORAL\\CORAL\\library.py\u001b[0m in \u001b[0;36mrequest\u001b[1;34m(self, request)\u001b[0m\n\u001b[0;32m     87\u001b[0m         \u001b[0mself\u001b[0m\u001b[1;33m.\u001b[0m\u001b[0m_requests\u001b[0m\u001b[1;33m.\u001b[0m\u001b[0mappend\u001b[0m\u001b[1;33m(\u001b[0m\u001b[0mrequest\u001b[0m\u001b[1;33m)\u001b[0m\u001b[1;33m\u001b[0m\u001b[1;33m\u001b[0m\u001b[0m\n\u001b[1;32m---> 88\u001b[1;33m         \u001b[0mself\u001b[0m\u001b[1;33m.\u001b[0m\u001b[0mcheck_requests\u001b[0m\u001b[1;33m(\u001b[0m\u001b[1;33m)\u001b[0m\u001b[1;33m\u001b[0m\u001b[1;33m\u001b[0m\u001b[0m\n\u001b[0m\u001b[0;32m     89\u001b[0m \u001b[1;33m\u001b[0m\u001b[0m\n",
      "\u001b[1;32m/Users/sbredenk/Repos/CORAL\\CORAL\\library.py\u001b[0m in \u001b[0;36mcheck_requests\u001b[1;34m(self)\u001b[0m\n\u001b[0;32m    126\u001b[0m                 \u001b[0mk\u001b[0m \u001b[1;33m=\u001b[0m \u001b[0mk\u001b[0m\u001b[1;33m.\u001b[0m\u001b[0msplit\u001b[0m\u001b[1;33m(\u001b[0m\u001b[1;34m\".\"\u001b[0m\u001b[1;33m)\u001b[0m\u001b[1;33m[\u001b[0m\u001b[1;33m-\u001b[0m\u001b[1;36m1\u001b[0m\u001b[1;33m]\u001b[0m\u001b[1;33m\u001b[0m\u001b[1;33m\u001b[0m\u001b[0m\n\u001b[1;32m--> 127\u001b[1;33m                 \u001b[1;32mif\u001b[0m \u001b[0mself\u001b[0m\u001b[1;33m.\u001b[0m\u001b[0mresources\u001b[0m\u001b[1;33m[\u001b[0m\u001b[0mk\u001b[0m\u001b[1;33m]\u001b[0m\u001b[1;33m[\u001b[0m\u001b[0mv\u001b[0m\u001b[1;33m]\u001b[0m\u001b[1;33m.\u001b[0m\u001b[0mcapacity\u001b[0m \u001b[1;33m==\u001b[0m \u001b[0mself\u001b[0m\u001b[1;33m.\u001b[0m\u001b[0mresources\u001b[0m\u001b[1;33m[\u001b[0m\u001b[0mk\u001b[0m\u001b[1;33m]\u001b[0m\u001b[1;33m[\u001b[0m\u001b[0mv\u001b[0m\u001b[1;33m]\u001b[0m\u001b[1;33m.\u001b[0m\u001b[0mcount\u001b[0m\u001b[1;33m:\u001b[0m\u001b[1;33m\u001b[0m\u001b[1;33m\u001b[0m\u001b[0m\n\u001b[0m\u001b[0;32m    128\u001b[0m                     \u001b[0mproceed\u001b[0m \u001b[1;33m=\u001b[0m \u001b[1;32mFalse\u001b[0m\u001b[1;33m\u001b[0m\u001b[1;33m\u001b[0m\u001b[0m\n",
      "\u001b[1;31mKeyError\u001b[0m: 'example_wtiv'",
      "\nThe above exception was the direct cause of the following exception:\n",
      "\u001b[1;31mKeyError\u001b[0m                                  Traceback (most recent call last)",
      "\u001b[1;32m~\\AppData\\Local\\Temp\\1\\ipykernel_10852\\627823511.py\u001b[0m in \u001b[0;36m<module>\u001b[1;34m\u001b[0m\n\u001b[0;32m      1\u001b[0m \u001b[0mmanager\u001b[0m \u001b[1;33m=\u001b[0m \u001b[0mGlobalManager\u001b[0m\u001b[1;33m(\u001b[0m\u001b[0mpipeline\u001b[0m\u001b[1;33m.\u001b[0m\u001b[0mconfigs\u001b[0m\u001b[1;33m,\u001b[0m \u001b[0mallocations\u001b[0m\u001b[1;33m,\u001b[0m \u001b[0mlibrary_path\u001b[0m\u001b[1;33m=\u001b[0m\u001b[0mlibrary\u001b[0m\u001b[1;33m)\u001b[0m\u001b[1;33m\u001b[0m\u001b[1;33m\u001b[0m\u001b[0m\n\u001b[0;32m      2\u001b[0m \u001b[1;31m# print(pipeline.configs)\u001b[0m\u001b[1;33m\u001b[0m\u001b[1;33m\u001b[0m\u001b[1;33m\u001b[0m\u001b[0m\n\u001b[1;32m----> 3\u001b[1;33m \u001b[0mmanager\u001b[0m\u001b[1;33m.\u001b[0m\u001b[0mrun\u001b[0m\u001b[1;33m(\u001b[0m\u001b[1;33m)\u001b[0m\u001b[1;33m\u001b[0m\u001b[1;33m\u001b[0m\u001b[0m\n\u001b[0m",
      "\u001b[1;32m/Users/sbredenk/Repos/CORAL\\CORAL\\manager.py\u001b[0m in \u001b[0;36mrun\u001b[1;34m(self)\u001b[0m\n\u001b[0;32m    153\u001b[0m         \u001b[1;34m\"\"\"Main simulation run method.\"\"\"\u001b[0m\u001b[1;33m\u001b[0m\u001b[1;33m\u001b[0m\u001b[0m\n\u001b[0;32m    154\u001b[0m \u001b[1;33m\u001b[0m\u001b[0m\n\u001b[1;32m--> 155\u001b[1;33m         \u001b[0mself\u001b[0m\u001b[1;33m.\u001b[0m\u001b[0menv\u001b[0m\u001b[1;33m.\u001b[0m\u001b[0mrun\u001b[0m\u001b[1;33m(\u001b[0m\u001b[1;33m)\u001b[0m\u001b[1;33m\u001b[0m\u001b[1;33m\u001b[0m\u001b[0m\n\u001b[0m\u001b[0;32m    156\u001b[0m         \u001b[1;32mif\u001b[0m \u001b[0mlen\u001b[0m\u001b[1;33m(\u001b[0m\u001b[0mself\u001b[0m\u001b[1;33m.\u001b[0m\u001b[0mlogs\u001b[0m\u001b[1;33m)\u001b[0m \u001b[1;33m!=\u001b[0m \u001b[0mlen\u001b[0m\u001b[1;33m(\u001b[0m\u001b[0mself\u001b[0m\u001b[1;33m.\u001b[0m\u001b[0mconfigs\u001b[0m\u001b[1;33m)\u001b[0m\u001b[1;33m:\u001b[0m\u001b[1;33m\u001b[0m\u001b[1;33m\u001b[0m\u001b[0m\n\u001b[0;32m    157\u001b[0m             raise RuntimeError(\n",
      "\u001b[1;32m~\\.conda\\envs\\coral\\lib\\site-packages\\simpy\\core.py\u001b[0m in \u001b[0;36mrun\u001b[1;34m(self, until)\u001b[0m\n\u001b[0;32m    252\u001b[0m         \u001b[1;32mtry\u001b[0m\u001b[1;33m:\u001b[0m\u001b[1;33m\u001b[0m\u001b[1;33m\u001b[0m\u001b[0m\n\u001b[0;32m    253\u001b[0m             \u001b[1;32mwhile\u001b[0m \u001b[1;32mTrue\u001b[0m\u001b[1;33m:\u001b[0m\u001b[1;33m\u001b[0m\u001b[1;33m\u001b[0m\u001b[0m\n\u001b[1;32m--> 254\u001b[1;33m                 \u001b[0mself\u001b[0m\u001b[1;33m.\u001b[0m\u001b[0mstep\u001b[0m\u001b[1;33m(\u001b[0m\u001b[1;33m)\u001b[0m\u001b[1;33m\u001b[0m\u001b[1;33m\u001b[0m\u001b[0m\n\u001b[0m\u001b[0;32m    255\u001b[0m         \u001b[1;32mexcept\u001b[0m \u001b[0mStopSimulation\u001b[0m \u001b[1;32mas\u001b[0m \u001b[0mexc\u001b[0m\u001b[1;33m:\u001b[0m\u001b[1;33m\u001b[0m\u001b[1;33m\u001b[0m\u001b[0m\n\u001b[0;32m    256\u001b[0m             \u001b[1;32mreturn\u001b[0m \u001b[0mexc\u001b[0m\u001b[1;33m.\u001b[0m\u001b[0margs\u001b[0m\u001b[1;33m[\u001b[0m\u001b[1;36m0\u001b[0m\u001b[1;33m]\u001b[0m  \u001b[1;31m# == until.value\u001b[0m\u001b[1;33m\u001b[0m\u001b[1;33m\u001b[0m\u001b[0m\n",
      "\u001b[1;32m~\\.conda\\envs\\coral\\lib\\site-packages\\simpy\\core.py\u001b[0m in \u001b[0;36mstep\u001b[1;34m(self)\u001b[0m\n\u001b[0;32m    204\u001b[0m             \u001b[0mexc\u001b[0m \u001b[1;33m=\u001b[0m \u001b[0mtype\u001b[0m\u001b[1;33m(\u001b[0m\u001b[0mevent\u001b[0m\u001b[1;33m.\u001b[0m\u001b[0m_value\u001b[0m\u001b[1;33m)\u001b[0m\u001b[1;33m(\u001b[0m\u001b[1;33m*\u001b[0m\u001b[0mevent\u001b[0m\u001b[1;33m.\u001b[0m\u001b[0m_value\u001b[0m\u001b[1;33m.\u001b[0m\u001b[0margs\u001b[0m\u001b[1;33m)\u001b[0m\u001b[1;33m\u001b[0m\u001b[1;33m\u001b[0m\u001b[0m\n\u001b[0;32m    205\u001b[0m             \u001b[0mexc\u001b[0m\u001b[1;33m.\u001b[0m\u001b[0m__cause__\u001b[0m \u001b[1;33m=\u001b[0m \u001b[0mevent\u001b[0m\u001b[1;33m.\u001b[0m\u001b[0m_value\u001b[0m\u001b[1;33m\u001b[0m\u001b[1;33m\u001b[0m\u001b[0m\n\u001b[1;32m--> 206\u001b[1;33m             \u001b[1;32mraise\u001b[0m \u001b[0mexc\u001b[0m\u001b[1;33m\u001b[0m\u001b[1;33m\u001b[0m\u001b[0m\n\u001b[0m\u001b[0;32m    207\u001b[0m \u001b[1;33m\u001b[0m\u001b[0m\n\u001b[0;32m    208\u001b[0m     def run(\n",
      "\u001b[1;31mKeyError\u001b[0m: 'example_wtiv'"
     ]
    }
   ],
   "source": [
    "manager = GlobalManager(pipeline.configs, allocations, library_path=library)\n",
    "# print(pipeline.configs)\n",
    "manager.run()"
   ]
  },
  {
   "cell_type": "markdown",
   "id": "0d007a42-e243-4aa5-b72f-ff259bb23507",
   "metadata": {},
   "source": [
    "## Understanding Output"
   ]
  },
  {
   "cell_type": "markdown",
   "id": "09170035-c5f6-4169-a759-6c76719948bf",
   "metadata": {},
   "source": []
  },
  {
   "cell_type": "code",
   "execution_count": null,
   "id": "0efa541b-d753-4f84-82e7-167653fe4675",
   "metadata": {},
   "outputs": [],
   "source": [
    "df = pd.DataFrame(manager.logs).iloc[::-1]\n",
    "df = df.reset_index(drop=True).reset_index()\n",
    "\n",
    "port_map = pipeline.projects[[\"name\", \"port_region\"]].set_index(\"name\").to_dict()['port_region']\n",
    "df['port'] = [port_map[name] for name in df['name']]\n",
    "df"
   ]
  },
  {
   "cell_type": "code",
   "execution_count": null,
   "id": "a666b1a2-ca98-43fd-a592-48af39a6aa3d",
   "metadata": {},
   "outputs": [],
   "source": [
    "fig = plt.figure(figsize=(6, 4), dpi=200)\n",
    "ax = fig.add_subplot(111)\n",
    "\n",
    "color_map = {\n",
    "    \"northeast\": \"tab:green\",\n",
    "    \"central\": \"tab:red\",\n",
    "    \"south\": \"tab:blue\"\n",
    "}\n",
    "\n",
    "df[\"Date Finished\"].plot(kind=\"barh\", ax=ax, zorder=4, label=\"Project Time\", color=\"#B5B5B5\")\n",
    "df[\"Date Started\"].plot(kind=\"barh\", color=\"w\", ax=ax, zorder=4, label=\"__nolabel__\")\n",
    "\n",
    "df.plot(kind=\"scatter\", x=\"Date Initialized\", y=\"index\", color='k', ax=ax, zorder=5, label=\"Initialized\", marker=\"d\")\n",
    "df.plot(kind=\"scatter\", x=\"request-wtiv-date\", y=\"index\", color='tab:orange', ax=ax, zorder=5, label=\"WTIV\", marker=\"x\")\n",
    "\n",
    "groups = df.groupby(\"port\")\n",
    "for name, group in groups:\n",
    "    group.plot(kind=\"scatter\", x=\"request-port-date\", y=\"index\", ax=ax, marker=\"x\", c=color_map[name], zorder=5, label=f\"{name} ports\".capitalize())\n",
    "\n",
    "ax.set_xlabel(\"Simulation Time\")\n",
    "ax.set_ylabel(\"\")\n",
    "_ = ax.set_yticklabels(df['name'])\n",
    "\n",
    "ax.legend()\n",
    "\n",
    "ax.set_xlim(manager._start - dt.timedelta(days=30), df[\"Date Finished\"].max() + dt.timedelta(days=30))"
   ]
  }
 ],
 "metadata": {
  "kernelspec": {
   "display_name": "Python 3 (ipykernel)",
   "language": "python",
   "name": "python3"
  },
  "language_info": {
   "codemirror_mode": {
    "name": "ipython",
    "version": 3
   },
   "file_extension": ".py",
   "mimetype": "text/x-python",
   "name": "python",
   "nbconvert_exporter": "python",
   "pygments_lexer": "ipython3",
   "version": "3.7.16"
  }
 },
 "nbformat": 4,
 "nbformat_minor": 5
}
