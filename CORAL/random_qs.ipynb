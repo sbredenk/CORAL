{
 "cells": [
  {
   "cell_type": "code",
   "execution_count": 2,
   "metadata": {},
   "outputs": [],
   "source": [
    "from geopy import distance\n",
    "import yaml\n",
    "import os\n",
    "\n",
    "south_fork = (-71.08, 41.11)\n",
    "new_london = (-72.09, 41.36)\n",
    "\n",
    "port_name = \"new_london\""
   ]
  },
  {
   "cell_type": "code",
   "execution_count": 7,
   "metadata": {},
   "outputs": [],
   "source": [
    "def calc_port_distance(project_coords, port_coords):\n",
    "    print(distance.distance(project_coords, port_coords).km)"
   ]
  },
  {
   "cell_type": "code",
   "execution_count": 8,
   "metadata": {},
   "outputs": [
    {
     "name": "stdout",
     "output_type": "stream",
     "text": [
      "113.04139147755984\n"
     ]
    }
   ],
   "source": [
    "calc_port_distance(south_fork, new_london)"
   ]
  },
  {
   "cell_type": "code",
   "execution_count": 6,
   "metadata": {},
   "outputs": [
    {
     "name": "stdout",
     "output_type": "stream",
     "text": [
      "(41.36008682668996, -72.0918543631234)\n"
     ]
    }
   ],
   "source": [
    "port_path = os.path.join(os.getcwd(), \"..\", \"analysis\", \"library\", \"ports\", \"%s.yaml\" % port_name)\n",
    "with open(port_path, 'r') as stream:\n",
    "    data_loaded = yaml.safe_load(stream)\n",
    "\n",
    "port_coords = (data_loaded[\"lat\"], data_loaded[\"lon\"])\n",
    "print(port_coords)"
   ]
  },
  {
   "cell_type": "code",
   "execution_count": null,
   "metadata": {},
   "outputs": [],
   "source": []
  }
 ],
 "metadata": {
  "kernelspec": {
   "display_name": "coral",
   "language": "python",
   "name": "python3"
  },
  "language_info": {
   "codemirror_mode": {
    "name": "ipython",
    "version": 3
   },
   "file_extension": ".py",
   "mimetype": "text/x-python",
   "name": "python",
   "nbconvert_exporter": "python",
   "pygments_lexer": "ipython3",
   "version": "3.7.16"
  },
  "orig_nbformat": 4
 },
 "nbformat": 4,
 "nbformat_minor": 2
}
