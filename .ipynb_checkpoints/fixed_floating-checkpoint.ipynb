{
 "cells": [
  {
   "cell_type": "code",
   "execution_count": 1,
   "id": "d0777c36",
   "metadata": {
    "tags": []
   },
   "outputs": [],
   "source": [
    "import sys\n",
    "# sys.path.insert(0, '/Users/sbredenk/Repos/CORAL_nesc/CORAL')\n",
    "sys.path.insert(0, '/Users/sbredenk/Repos/ORBIT_semitaut/ORBIT')\n",
    "from CORAL import SharedLibrary, GlobalManager, FixedPipeline, FloatingPipeline\n",
    "import pandas as pd\n",
    "import matplotlib.pyplot as plt\n",
    "import datetime as dt\n",
    "import yaml"
   ]
  },
  {
   "cell_type": "code",
   "execution_count": 2,
   "id": "ea9d8858-203c-4d59-8ef0-bd5e057c405e",
   "metadata": {},
   "outputs": [],
   "source": [
    "import os\n",
    "base = os.path.join(os.getcwd(), \"analysis\", \"base.yaml\")\n",
    "base_float = os.path.join(os.getcwd(), \"analysis\", \"base_float.yaml\")\n",
    "library = os.path.join(os.getcwd(), \"analysis\", \"library\")"
   ]
  },
  {
   "cell_type": "markdown",
   "id": "d595eb63-6425-4221-b20d-d046408c3fc1",
   "metadata": {
    "tags": []
   },
   "source": [
    "# Fixed"
   ]
  },
  {
   "cell_type": "code",
   "execution_count": 3,
   "id": "eddc95f2-a41b-45e4-b0cc-6e33c5842a62",
   "metadata": {},
   "outputs": [],
   "source": [
    "fixed_projects = os.path.join(os.getcwd(), \"analysis\", \"pipelines\", \"fixed_pipeline.csv\")\n",
    "pipeline = FixedPipeline(fixed_projects, base)\n",
    "\n",
    "allocations = {\n",
    "    \"wtiv\": [('example_heavy_lift_vessel', 2),('example_wtiv', 2)],\n",
    "    \"feeder\": ('example_heavy_feeder', 6),\n",
    "    \"port\": [('northeast', 1), ('central', 1), ('south', 1)],\n",
    "}"
   ]
  },
  {
   "cell_type": "code",
   "execution_count": 4,
   "id": "9265aae5-be78-4174-865c-ad72bbd29a1c",
   "metadata": {},
   "outputs": [
    {
     "name": "stdout",
     "output_type": "stream",
     "text": [
      "C:\\Users\\sbredenk\\Repos\\CORAL_nesc\\CORAL\\analysis\\library\\vessels\\example_heavy_lift_vessel.yaml\n",
      "C:\\Users\\sbredenk\\Repos\\CORAL_nesc\\CORAL\\analysis\\library\\vessels\\example_wtiv.yaml\n",
      "C:\\Users\\sbredenk\\Repos\\CORAL_nesc\\CORAL\\analysis\\library\\vessels\\example_heavy_feeder.yaml\n",
      "C:\\Users\\sbredenk\\Repos\\CORAL_nesc\\CORAL\\analysis\\library\\ports\\northeast.yaml\n",
      "C:\\Users\\sbredenk\\Repos\\CORAL_nesc\\CORAL\\analysis\\library\\ports\\central.yaml\n",
      "C:\\Users\\sbredenk\\Repos\\CORAL_nesc\\CORAL\\analysis\\library\\ports\\south.yaml\n",
      "ORBIT library intialized at 'C:\\Users\\sbredenk\\Repos\\ORBIT_semitaut\\ORBIT\\library'\n"
     ]
    },
    {
     "ename": "ValueError",
     "evalue": "A value in x_new is below the interpolation range.",
     "output_type": "error",
     "traceback": [
      "\u001b[1;31m---------------------------------------------------------------------------\u001b[0m",
      "\u001b[1;31mValueError\u001b[0m                                Traceback (most recent call last)",
      "\u001b[1;32m~\\Repos\\CORAL_nesc\\CORAL\\CORAL\\manager.py\u001b[0m in \u001b[0;36m_initialize\u001b[1;34m(self, name, start, config)\u001b[0m\n\u001b[0;32m    189\u001b[0m \u001b[1;33m\u001b[0m\u001b[0m\n\u001b[1;32m--> 190\u001b[1;33m         \u001b[0mproject\u001b[0m \u001b[1;33m=\u001b[0m \u001b[0mself\u001b[0m\u001b[1;33m.\u001b[0m\u001b[0m_run_project\u001b[0m\u001b[1;33m(\u001b[0m\u001b[0mconfig\u001b[0m\u001b[1;33m)\u001b[0m\u001b[1;33m\u001b[0m\u001b[1;33m\u001b[0m\u001b[0m\n\u001b[0m\u001b[0;32m    191\u001b[0m         \u001b[1;32myield\u001b[0m \u001b[0mself\u001b[0m\u001b[1;33m.\u001b[0m\u001b[0menv\u001b[0m\u001b[1;33m.\u001b[0m\u001b[0mtimeout\u001b[0m\u001b[1;33m(\u001b[0m\u001b[0mproject\u001b[0m\u001b[1;33m.\u001b[0m\u001b[0mproject_time\u001b[0m\u001b[1;33m)\u001b[0m\u001b[1;33m\u001b[0m\u001b[1;33m\u001b[0m\u001b[0m\n",
      "\u001b[1;32m~\\Repos\\CORAL_nesc\\CORAL\\CORAL\\manager.py\u001b[0m in \u001b[0;36m_run_project\u001b[1;34m(self, config)\u001b[0m\n\u001b[0;32m    297\u001b[0m         \u001b[0mproject\u001b[0m \u001b[1;33m=\u001b[0m \u001b[0mProjectManager\u001b[0m\u001b[1;33m(\u001b[0m\u001b[0mconfig\u001b[0m\u001b[1;33m,\u001b[0m \u001b[0mweather\u001b[0m\u001b[1;33m=\u001b[0m\u001b[0mweather\u001b[0m\u001b[1;33m)\u001b[0m\u001b[1;33m\u001b[0m\u001b[1;33m\u001b[0m\u001b[0m\n\u001b[1;32m--> 298\u001b[1;33m         \u001b[0mproject\u001b[0m\u001b[1;33m.\u001b[0m\u001b[0mrun\u001b[0m\u001b[1;33m(\u001b[0m\u001b[1;33m)\u001b[0m\u001b[1;33m\u001b[0m\u001b[1;33m\u001b[0m\u001b[0m\n\u001b[0m\u001b[0;32m    299\u001b[0m \u001b[1;33m\u001b[0m\u001b[0m\n",
      "\u001b[1;32m/Users/sbredenk/Repos/ORBIT_semitaut/ORBIT\\ORBIT\\manager.py\u001b[0m in \u001b[0;36mrun\u001b[1;34m(self, **kwargs)\u001b[0m\n\u001b[0;32m    172\u001b[0m \u001b[1;33m\u001b[0m\u001b[0m\n\u001b[1;32m--> 173\u001b[1;33m         \u001b[0mself\u001b[0m\u001b[1;33m.\u001b[0m\u001b[0mrun_all_design_phases\u001b[0m\u001b[1;33m(\u001b[0m\u001b[0mdesign_phases\u001b[0m\u001b[1;33m,\u001b[0m \u001b[1;33m**\u001b[0m\u001b[0mkwargs\u001b[0m\u001b[1;33m)\u001b[0m\u001b[1;33m\u001b[0m\u001b[1;33m\u001b[0m\u001b[0m\n\u001b[0m\u001b[0;32m    174\u001b[0m \u001b[1;33m\u001b[0m\u001b[0m\n",
      "\u001b[1;32m/Users/sbredenk/Repos/ORBIT_semitaut/ORBIT\\ORBIT\\manager.py\u001b[0m in \u001b[0;36mrun_all_design_phases\u001b[1;34m(self, phase_list, **kwargs)\u001b[0m\n\u001b[0;32m    625\u001b[0m         \u001b[1;32mfor\u001b[0m \u001b[0mname\u001b[0m \u001b[1;32min\u001b[0m \u001b[0mphase_list\u001b[0m\u001b[1;33m:\u001b[0m\u001b[1;33m\u001b[0m\u001b[1;33m\u001b[0m\u001b[0m\n\u001b[1;32m--> 626\u001b[1;33m             \u001b[0mself\u001b[0m\u001b[1;33m.\u001b[0m\u001b[0mrun_design_phase\u001b[0m\u001b[1;33m(\u001b[0m\u001b[0mname\u001b[0m\u001b[1;33m,\u001b[0m \u001b[1;33m**\u001b[0m\u001b[0mkwargs\u001b[0m\u001b[1;33m)\u001b[0m\u001b[1;33m\u001b[0m\u001b[1;33m\u001b[0m\u001b[0m\n\u001b[0m\u001b[0;32m    627\u001b[0m \u001b[1;33m\u001b[0m\u001b[0m\n",
      "\u001b[1;32m/Users/sbredenk/Repos/ORBIT_semitaut/ORBIT\\ORBIT\\manager.py\u001b[0m in \u001b[0;36mrun_design_phase\u001b[1;34m(self, name, **kwargs)\u001b[0m\n\u001b[0;32m    653\u001b[0m             \u001b[0mphase\u001b[0m \u001b[1;33m=\u001b[0m \u001b[0m_class\u001b[0m\u001b[1;33m(\u001b[0m\u001b[0m_config\u001b[0m\u001b[1;33m)\u001b[0m\u001b[1;33m\u001b[0m\u001b[1;33m\u001b[0m\u001b[0m\n\u001b[1;32m--> 654\u001b[1;33m             \u001b[0mphase\u001b[0m\u001b[1;33m.\u001b[0m\u001b[0mrun\u001b[0m\u001b[1;33m(\u001b[0m\u001b[1;33m)\u001b[0m\u001b[1;33m\u001b[0m\u001b[1;33m\u001b[0m\u001b[0m\n\u001b[0m\u001b[0;32m    655\u001b[0m \u001b[1;33m\u001b[0m\u001b[0m\n",
      "\u001b[1;32m/Users/sbredenk/Repos/ORBIT_semitaut/ORBIT\\ORBIT\\phases\\design\\SemiTaut_mooring_system_design.py\u001b[0m in \u001b[0;36mrun\u001b[1;34m(self)\u001b[0m\n\u001b[0;32m     65\u001b[0m \u001b[1;33m\u001b[0m\u001b[0m\n\u001b[1;32m---> 66\u001b[1;33m         \u001b[0mself\u001b[0m\u001b[1;33m.\u001b[0m\u001b[0mcalculate_line_length_mass\u001b[0m\u001b[1;33m(\u001b[0m\u001b[1;33m)\u001b[0m\u001b[1;33m\u001b[0m\u001b[1;33m\u001b[0m\u001b[0m\n\u001b[0m\u001b[0;32m     67\u001b[0m         \u001b[0mself\u001b[0m\u001b[1;33m.\u001b[0m\u001b[0mdetermine_mooring_line_cost\u001b[0m\u001b[1;33m(\u001b[0m\u001b[1;33m)\u001b[0m\u001b[1;33m\u001b[0m\u001b[1;33m\u001b[0m\u001b[0m\n",
      "\u001b[1;32m/Users/sbredenk/Repos/ORBIT_semitaut/ORBIT\\ORBIT\\phases\\design\\SemiTaut_mooring_system_design.py\u001b[0m in \u001b[0;36mcalculate_line_length_mass\u001b[1;34m(self)\u001b[0m\n\u001b[0;32m     92\u001b[0m         \u001b[1;31m# Rope and chain length at project depth\u001b[0m\u001b[1;33m\u001b[0m\u001b[1;33m\u001b[0m\u001b[1;33m\u001b[0m\u001b[0m\n\u001b[1;32m---> 93\u001b[1;33m         \u001b[0mself\u001b[0m\u001b[1;33m.\u001b[0m\u001b[0mchain_length\u001b[0m \u001b[1;33m=\u001b[0m \u001b[0mfinterp_chain\u001b[0m\u001b[1;33m(\u001b[0m\u001b[0mdepth\u001b[0m\u001b[1;33m)\u001b[0m\u001b[1;33m\u001b[0m\u001b[1;33m\u001b[0m\u001b[0m\n\u001b[0m\u001b[0;32m     94\u001b[0m         \u001b[0mself\u001b[0m\u001b[1;33m.\u001b[0m\u001b[0mrope_length\u001b[0m \u001b[1;33m=\u001b[0m \u001b[0mfinterp_rope\u001b[0m\u001b[1;33m(\u001b[0m\u001b[0mdepth\u001b[0m\u001b[1;33m)\u001b[0m\u001b[1;33m\u001b[0m\u001b[1;33m\u001b[0m\u001b[0m\n",
      "\u001b[1;32m~\\.conda\\envs\\orbit-sophie\\lib\\site-packages\\scipy\\interpolate\\polyint.py\u001b[0m in \u001b[0;36m__call__\u001b[1;34m(self, x)\u001b[0m\n\u001b[0;32m     77\u001b[0m         \u001b[0mx\u001b[0m\u001b[1;33m,\u001b[0m \u001b[0mx_shape\u001b[0m \u001b[1;33m=\u001b[0m \u001b[0mself\u001b[0m\u001b[1;33m.\u001b[0m\u001b[0m_prepare_x\u001b[0m\u001b[1;33m(\u001b[0m\u001b[0mx\u001b[0m\u001b[1;33m)\u001b[0m\u001b[1;33m\u001b[0m\u001b[1;33m\u001b[0m\u001b[0m\n\u001b[1;32m---> 78\u001b[1;33m         \u001b[0my\u001b[0m \u001b[1;33m=\u001b[0m \u001b[0mself\u001b[0m\u001b[1;33m.\u001b[0m\u001b[0m_evaluate\u001b[0m\u001b[1;33m(\u001b[0m\u001b[0mx\u001b[0m\u001b[1;33m)\u001b[0m\u001b[1;33m\u001b[0m\u001b[1;33m\u001b[0m\u001b[0m\n\u001b[0m\u001b[0;32m     79\u001b[0m         \u001b[1;32mreturn\u001b[0m \u001b[0mself\u001b[0m\u001b[1;33m.\u001b[0m\u001b[0m_finish_y\u001b[0m\u001b[1;33m(\u001b[0m\u001b[0my\u001b[0m\u001b[1;33m,\u001b[0m \u001b[0mx_shape\u001b[0m\u001b[1;33m)\u001b[0m\u001b[1;33m\u001b[0m\u001b[1;33m\u001b[0m\u001b[0m\n",
      "\u001b[1;32m~\\.conda\\envs\\orbit-sophie\\lib\\site-packages\\scipy\\interpolate\\interpolate.py\u001b[0m in \u001b[0;36m_evaluate\u001b[1;34m(self, x_new)\u001b[0m\n\u001b[0;32m    683\u001b[0m         \u001b[1;32mif\u001b[0m \u001b[1;32mnot\u001b[0m \u001b[0mself\u001b[0m\u001b[1;33m.\u001b[0m\u001b[0m_extrapolate\u001b[0m\u001b[1;33m:\u001b[0m\u001b[1;33m\u001b[0m\u001b[1;33m\u001b[0m\u001b[0m\n\u001b[1;32m--> 684\u001b[1;33m             \u001b[0mbelow_bounds\u001b[0m\u001b[1;33m,\u001b[0m \u001b[0mabove_bounds\u001b[0m \u001b[1;33m=\u001b[0m \u001b[0mself\u001b[0m\u001b[1;33m.\u001b[0m\u001b[0m_check_bounds\u001b[0m\u001b[1;33m(\u001b[0m\u001b[0mx_new\u001b[0m\u001b[1;33m)\u001b[0m\u001b[1;33m\u001b[0m\u001b[1;33m\u001b[0m\u001b[0m\n\u001b[0m\u001b[0;32m    685\u001b[0m             \u001b[1;32mif\u001b[0m \u001b[0mlen\u001b[0m\u001b[1;33m(\u001b[0m\u001b[0my_new\u001b[0m\u001b[1;33m)\u001b[0m \u001b[1;33m>\u001b[0m \u001b[1;36m0\u001b[0m\u001b[1;33m:\u001b[0m\u001b[1;33m\u001b[0m\u001b[1;33m\u001b[0m\u001b[0m\n",
      "\u001b[1;32m~\\.conda\\envs\\orbit-sophie\\lib\\site-packages\\scipy\\interpolate\\interpolate.py\u001b[0m in \u001b[0;36m_check_bounds\u001b[1;34m(self, x_new)\u001b[0m\n\u001b[0;32m    712\u001b[0m         \u001b[1;32mif\u001b[0m \u001b[0mself\u001b[0m\u001b[1;33m.\u001b[0m\u001b[0mbounds_error\u001b[0m \u001b[1;32mand\u001b[0m \u001b[0mbelow_bounds\u001b[0m\u001b[1;33m.\u001b[0m\u001b[0many\u001b[0m\u001b[1;33m(\u001b[0m\u001b[1;33m)\u001b[0m\u001b[1;33m:\u001b[0m\u001b[1;33m\u001b[0m\u001b[1;33m\u001b[0m\u001b[0m\n\u001b[1;32m--> 713\u001b[1;33m             raise ValueError(\"A value in x_new is below the interpolation \"\n\u001b[0m\u001b[0;32m    714\u001b[0m                              \"range.\")\n",
      "\u001b[1;31mValueError\u001b[0m: A value in x_new is below the interpolation range.",
      "\nThe above exception was the direct cause of the following exception:\n",
      "\u001b[1;31mValueError\u001b[0m                                Traceback (most recent call last)",
      "\u001b[1;32m<ipython-input-4-6b85ed80a5da>\u001b[0m in \u001b[0;36m<module>\u001b[1;34m\u001b[0m\n\u001b[0;32m      1\u001b[0m \u001b[0mmanager\u001b[0m \u001b[1;33m=\u001b[0m \u001b[0mGlobalManager\u001b[0m\u001b[1;33m(\u001b[0m\u001b[0mpipeline\u001b[0m\u001b[1;33m.\u001b[0m\u001b[0mconfigs\u001b[0m\u001b[1;33m,\u001b[0m \u001b[0mallocations\u001b[0m\u001b[1;33m,\u001b[0m \u001b[0mlibrary_path\u001b[0m\u001b[1;33m=\u001b[0m\u001b[0mlibrary\u001b[0m\u001b[1;33m)\u001b[0m\u001b[1;33m\u001b[0m\u001b[1;33m\u001b[0m\u001b[0m\n\u001b[0;32m      2\u001b[0m \u001b[1;31m# print(pipeline.configs)\u001b[0m\u001b[1;33m\u001b[0m\u001b[1;33m\u001b[0m\u001b[1;33m\u001b[0m\u001b[0m\n\u001b[1;32m----> 3\u001b[1;33m \u001b[0mmanager\u001b[0m\u001b[1;33m.\u001b[0m\u001b[0mrun\u001b[0m\u001b[1;33m(\u001b[0m\u001b[1;33m)\u001b[0m\u001b[1;33m\u001b[0m\u001b[1;33m\u001b[0m\u001b[0m\n\u001b[0m",
      "\u001b[1;32m~\\Repos\\CORAL_nesc\\CORAL\\CORAL\\manager.py\u001b[0m in \u001b[0;36mrun\u001b[1;34m(self)\u001b[0m\n\u001b[0;32m    153\u001b[0m         \u001b[1;34m\"\"\"Main simulation run method.\"\"\"\u001b[0m\u001b[1;33m\u001b[0m\u001b[1;33m\u001b[0m\u001b[0m\n\u001b[0;32m    154\u001b[0m \u001b[1;33m\u001b[0m\u001b[0m\n\u001b[1;32m--> 155\u001b[1;33m         \u001b[0mself\u001b[0m\u001b[1;33m.\u001b[0m\u001b[0menv\u001b[0m\u001b[1;33m.\u001b[0m\u001b[0mrun\u001b[0m\u001b[1;33m(\u001b[0m\u001b[1;33m)\u001b[0m\u001b[1;33m\u001b[0m\u001b[1;33m\u001b[0m\u001b[0m\n\u001b[0m\u001b[0;32m    156\u001b[0m         \u001b[1;32mif\u001b[0m \u001b[0mlen\u001b[0m\u001b[1;33m(\u001b[0m\u001b[0mself\u001b[0m\u001b[1;33m.\u001b[0m\u001b[0mlogs\u001b[0m\u001b[1;33m)\u001b[0m \u001b[1;33m!=\u001b[0m \u001b[0mlen\u001b[0m\u001b[1;33m(\u001b[0m\u001b[0mself\u001b[0m\u001b[1;33m.\u001b[0m\u001b[0mconfigs\u001b[0m\u001b[1;33m)\u001b[0m\u001b[1;33m:\u001b[0m\u001b[1;33m\u001b[0m\u001b[1;33m\u001b[0m\u001b[0m\n\u001b[0;32m    157\u001b[0m             raise RuntimeError(\n",
      "\u001b[1;32m~\\.conda\\envs\\orbit-sophie\\lib\\site-packages\\simpy\\core.py\u001b[0m in \u001b[0;36mrun\u001b[1;34m(self, until)\u001b[0m\n\u001b[0;32m    252\u001b[0m         \u001b[1;32mtry\u001b[0m\u001b[1;33m:\u001b[0m\u001b[1;33m\u001b[0m\u001b[1;33m\u001b[0m\u001b[0m\n\u001b[0;32m    253\u001b[0m             \u001b[1;32mwhile\u001b[0m \u001b[1;32mTrue\u001b[0m\u001b[1;33m:\u001b[0m\u001b[1;33m\u001b[0m\u001b[1;33m\u001b[0m\u001b[0m\n\u001b[1;32m--> 254\u001b[1;33m                 \u001b[0mself\u001b[0m\u001b[1;33m.\u001b[0m\u001b[0mstep\u001b[0m\u001b[1;33m(\u001b[0m\u001b[1;33m)\u001b[0m\u001b[1;33m\u001b[0m\u001b[1;33m\u001b[0m\u001b[0m\n\u001b[0m\u001b[0;32m    255\u001b[0m         \u001b[1;32mexcept\u001b[0m \u001b[0mStopSimulation\u001b[0m \u001b[1;32mas\u001b[0m \u001b[0mexc\u001b[0m\u001b[1;33m:\u001b[0m\u001b[1;33m\u001b[0m\u001b[1;33m\u001b[0m\u001b[0m\n\u001b[0;32m    256\u001b[0m             \u001b[1;32mreturn\u001b[0m \u001b[0mexc\u001b[0m\u001b[1;33m.\u001b[0m\u001b[0margs\u001b[0m\u001b[1;33m[\u001b[0m\u001b[1;36m0\u001b[0m\u001b[1;33m]\u001b[0m  \u001b[1;31m# == until.value\u001b[0m\u001b[1;33m\u001b[0m\u001b[1;33m\u001b[0m\u001b[0m\n",
      "\u001b[1;32m~\\.conda\\envs\\orbit-sophie\\lib\\site-packages\\simpy\\core.py\u001b[0m in \u001b[0;36mstep\u001b[1;34m(self)\u001b[0m\n\u001b[0;32m    204\u001b[0m             \u001b[0mexc\u001b[0m \u001b[1;33m=\u001b[0m \u001b[0mtype\u001b[0m\u001b[1;33m(\u001b[0m\u001b[0mevent\u001b[0m\u001b[1;33m.\u001b[0m\u001b[0m_value\u001b[0m\u001b[1;33m)\u001b[0m\u001b[1;33m(\u001b[0m\u001b[1;33m*\u001b[0m\u001b[0mevent\u001b[0m\u001b[1;33m.\u001b[0m\u001b[0m_value\u001b[0m\u001b[1;33m.\u001b[0m\u001b[0margs\u001b[0m\u001b[1;33m)\u001b[0m\u001b[1;33m\u001b[0m\u001b[1;33m\u001b[0m\u001b[0m\n\u001b[0;32m    205\u001b[0m             \u001b[0mexc\u001b[0m\u001b[1;33m.\u001b[0m\u001b[0m__cause__\u001b[0m \u001b[1;33m=\u001b[0m \u001b[0mevent\u001b[0m\u001b[1;33m.\u001b[0m\u001b[0m_value\u001b[0m\u001b[1;33m\u001b[0m\u001b[1;33m\u001b[0m\u001b[0m\n\u001b[1;32m--> 206\u001b[1;33m             \u001b[1;32mraise\u001b[0m \u001b[0mexc\u001b[0m\u001b[1;33m\u001b[0m\u001b[1;33m\u001b[0m\u001b[0m\n\u001b[0m\u001b[0;32m    207\u001b[0m \u001b[1;33m\u001b[0m\u001b[0m\n\u001b[0;32m    208\u001b[0m     def run(\n",
      "\u001b[1;31mValueError\u001b[0m: A value in x_new is below the interpolation range."
     ]
    }
   ],
   "source": [
    "manager = GlobalManager(pipeline.configs, allocations, library_path=library)\n",
    "# print(pipeline.configs)\n",
    "manager.run()"
   ]
  },
  {
   "cell_type": "code",
   "execution_count": null,
   "id": "55c26d48-af4b-4644-a6be-d2f56d7b570e",
   "metadata": {},
   "outputs": [],
   "source": [
    "df = pd.DataFrame(manager.logs).iloc[::-1]\n",
    "df = df.reset_index(drop=True).reset_index()\n",
    "\n",
    "port_map = pipeline.projects[[\"name\", \"port_region\"]].set_index(\"name\").to_dict()['port_region']\n",
    "df['port'] = [port_map[name] for name in df['name']]"
   ]
  },
  {
   "cell_type": "code",
   "execution_count": null,
   "id": "aec9b4ae-1cfe-4ce1-96dc-b3395a49ddcb",
   "metadata": {
    "tags": []
   },
   "outputs": [],
   "source": [
    "fig = plt.figure(figsize=(6, 4), dpi=200)\n",
    "ax = fig.add_subplot(111)\n",
    "\n",
    "color_map = {\n",
    "    \"northeast\": \"tab:green\",\n",
    "    \"central\": \"tab:red\",\n",
    "    \"south\": \"tab:blue\"\n",
    "}\n",
    "\n",
    "df[\"Date Finished\"].plot(kind=\"barh\", ax=ax, zorder=4, label=\"Project Time\", color=\"#B5B5B5\")\n",
    "df[\"Date Started\"].plot(kind=\"barh\", color=\"w\", ax=ax, zorder=4, label=\"__nolabel__\")\n",
    "\n",
    "df.plot(kind=\"scatter\", x=\"Date Initialized\", y=\"index\", color='k', ax=ax, zorder=5, label=\"Initialized\", marker=\"d\")\n",
    "# df.plot(kind=\"scatter\", x=\"request-wtiv-date\", y=\"index\", color='tab:orange', ax=ax, zorder=5, label=\"WTIV\", marker=\"x\")\n",
    "\n",
    "groups = df.groupby(\"port\")\n",
    "# for name, group in groups:\n",
    "#     group.plot(kind=\"scatter\", x=\"request-port-date\", y=\"index\", ax=ax, marker=\"x\", c=color_map[name], zorder=5, label=f\"{name} ports\".capitalize())\n",
    "\n",
    "ax.set_xlabel(\"Simulation Time\")\n",
    "ax.set_ylabel(\"\")\n",
    "_ = ax.set_yticklabels(df['name'])\n",
    "\n",
    "ax.legend()\n",
    "\n",
    "ax.set_xlim(manager._start - dt.timedelta(days=30), df[\"Date Finished\"].max() + dt.timedelta(days=30))"
   ]
  },
  {
   "cell_type": "markdown",
   "id": "524bdbd4-afef-4f01-84c1-d4e769e409a5",
   "metadata": {},
   "source": [
    "# Floating"
   ]
  },
  {
   "cell_type": "code",
   "execution_count": null,
   "id": "f6e7b196-1967-4bbb-baf5-730f45d35aa4",
   "metadata": {},
   "outputs": [],
   "source": [
    "floating_projects = os.path.join(os.getcwd(), \"analysis\", \"pipelines\", \"floating_pipeline.csv\")\n",
    "pipeline = FloatingPipeline(floating_projects, base)\n",
    "\n",
    "allocations = {\n",
    "    \"ahts_vessel\": ('example_ahts_vessel', 2),\n",
    "    \"towing_vessel\": ('example_towing_vessel', 2),\n",
    "    \"feeder\": ('example_heavy_feeder', 6),\n",
    "    \"port\": [('northeast', 1), ('central', 1), ('south', 1)],\n",
    "}"
   ]
  },
  {
   "cell_type": "code",
   "execution_count": null,
   "id": "02d8ba07-395e-4f60-9e08-8524ae6d8a6a",
   "metadata": {},
   "outputs": [],
   "source": [
    "manager = GlobalManager(pipeline.configs, allocations, library_path=library)\n",
    "# print(pipeline.configs)\n",
    "manager.run()"
   ]
  },
  {
   "cell_type": "code",
   "execution_count": null,
   "id": "3b05e65c-dcb0-467a-a7e8-9f153d11949c",
   "metadata": {},
   "outputs": [],
   "source": [
    "df = pd.DataFrame(manager.logs).iloc[::-1]\n",
    "df = df.reset_index(drop=True).reset_index()\n",
    "\n",
    "port_map = pipeline.projects[[\"name\", \"port_region\"]].set_index(\"name\").to_dict()['port_region']\n",
    "df['port'] = [port_map[name] for name in df['name']]\n",
    "df"
   ]
  },
  {
   "cell_type": "code",
   "execution_count": null,
   "id": "7466aab5-cf01-4ebb-9dc8-3d692614916b",
   "metadata": {
    "tags": []
   },
   "outputs": [],
   "source": [
    "fig = plt.figure(figsize=(6, 4), dpi=200)\n",
    "ax = fig.add_subplot(111)\n",
    "\n",
    "color_map = {\n",
    "    \"northeast\": \"tab:green\",\n",
    "    \"central\": \"tab:red\",\n",
    "    \"south\": \"tab:blue\"\n",
    "}\n",
    "\n",
    "df[\"Date Finished\"].plot(kind=\"barh\", ax=ax, zorder=4, label=\"Project Time\", color=\"#B5B5B5\")\n",
    "df[\"Date Started\"].plot(kind=\"barh\", color=\"w\", ax=ax, zorder=4, label=\"__nolabel__\")\n",
    "\n",
    "df.plot(kind=\"scatter\", x=\"Date Initialized\", y=\"index\", color='k', ax=ax, zorder=5, label=\"Initialized\", marker=\"d\")\n",
    "# df.plot(kind=\"scatter\", x=\"request-wtiv-date\", y=\"index\", color='tab:orange', ax=ax, zorder=5, label=\"WTIV\", marker=\"x\")\n",
    "\n",
    "groups = df.groupby(\"port\")\n",
    "# for name, group in groups:\n",
    "#     group.plot(kind=\"scatter\", x=\"request-port-date\", y=\"index\", ax=ax, marker=\"x\", c=color_map[name], zorder=5, label=f\"{name} ports\".capitalize())\n",
    "\n",
    "ax.set_xlabel(\"Simulation Time\")\n",
    "ax.set_ylabel(\"\")\n",
    "_ = ax.set_yticklabels(df['name'])\n",
    "\n",
    "ax.legend()\n",
    "\n",
    "ax.set_xlim(manager._start - dt.timedelta(days=30), df[\"Date Finished\"].max() + dt.timedelta(days=30))"
   ]
  }
 ],
 "metadata": {
  "kernelspec": {
   "display_name": "Python 3",
   "language": "python",
   "name": "python3"
  },
  "language_info": {
   "codemirror_mode": {
    "name": "ipython",
    "version": 3
   },
   "file_extension": ".py",
   "mimetype": "text/x-python",
   "name": "python",
   "nbconvert_exporter": "python",
   "pygments_lexer": "ipython3",
   "version": "3.7.11"
  }
 },
 "nbformat": 4,
 "nbformat_minor": 5
}
