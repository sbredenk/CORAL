{
 "cells": [
  {
   "cell_type": "code",
   "execution_count": 1,
   "metadata": {},
   "outputs": [],
   "source": [
    "from coral_imports import *\n",
    "from coral_plotting import *\n",
    "from coral_run_project import *\n",
    "import matplotlib.ticker as tck"
   ]
  },
  {
   "attachments": {},
   "cell_type": "markdown",
   "metadata": {},
   "source": [
    "# Read in Pipeline and Libraries"
   ]
  },
  {
   "cell_type": "code",
   "execution_count": 2,
   "metadata": {},
   "outputs": [],
   "source": [
    "base = os.path.join(os.getcwd(), \"analysis\", \"configs\", \"base.yaml\")\n",
    "base_float = os.path.join(os.getcwd(), \"analysis\", \"configs\", \"base_float.yaml\")\n",
    "library = os.path.join(os.getcwd(), \"analysis\", \"library\")\n",
    "weather_fp = os.path.join(os.getcwd(), \"analysis\", \"library\", \"weather\", \"vineyard_wind_repr_with_whales.csv\")\n",
    "\n",
    "weather = pd.read_csv(weather_fp, parse_dates=[\"datetime\"])\\\n",
    "            .set_index(\"datetime\")"
   ]
  },
  {
   "attachments": {},
   "cell_type": "markdown",
   "metadata": {},
   "source": [
    "# Create DFs based on CORAL runs"
   ]
  },
  {
   "cell_type": "code",
   "execution_count": 3,
   "metadata": {},
   "outputs": [],
   "source": [
    "# set up yaml reading\n",
    "def tuple_constructor(loader, node):\n",
    "    # Load the sequence of values from the YAML node\n",
    "    values = loader.construct_sequence(node)\n",
    "    # Return a tuple constructed from the sequence\n",
    "    return tuple(values)\n",
    "\n",
    "# Register the constructor with PyYAML\n",
    "yaml.SafeLoader.add_constructor('tag:yaml.org,2002:python/tuple', \n",
    "tuple_constructor)"
   ]
  },
  {
   "cell_type": "code",
   "execution_count": 4,
   "metadata": {},
   "outputs": [
    {
     "name": "stdout",
     "output_type": "stream",
     "text": [
      "ORBIT library intialized at 'c:\\Users\\sbredenk\\Repos\\ORBIT_natl_gaps\\library'\n",
      "TurbineInstallation:\n",
      "\t Warning: 'Feeder 0' Deck Space Capacity Exceeded\n",
      "TurbineInstallation:\n",
      "\t Warning: 'Feeder 1' Deck Space Capacity Exceeded\n",
      "TurbineInstallation:\n",
      "\t Warning: 'Feeder 0' Deck Space Capacity Exceeded\n",
      "TurbineInstallation:\n",
      "\t Warning: 'Feeder 1' Deck Space Capacity Exceeded\n",
      "TurbineInstallation:\n",
      "\t Warning: 'Feeder 0' Deck Space Capacity Exceeded\n",
      "TurbineInstallation:\n",
      "\t Warning: 'Feeder 1' Deck Space Capacity Exceeded\n",
      "TurbineInstallation:\n",
      "\t Warning: 'Feeder 0' Deck Space Capacity Exceeded\n",
      "TurbineInstallation:\n",
      "\t Warning: 'Feeder 1' Deck Space Capacity Exceeded\n",
      "TurbineInstallation:\n",
      "\t Warning: 'Feeder 0' Deck Space Capacity Exceeded\n",
      "TurbineInstallation:\n",
      "\t Warning: 'Feeder 1' Deck Space Capacity Exceeded\n",
      "TurbineInstallation:\n",
      "\t Warning: 'Feeder 0' Deck Space Capacity Exceeded\n",
      "TurbineInstallation:\n",
      "\t Warning: 'Feeder 1' Deck Space Capacity Exceeded\n",
      "TurbineInstallation:\n",
      "\t Warning: 'Feeder 0' Deck Space Capacity Exceeded\n",
      "TurbineInstallation:\n",
      "\t Warning: 'Feeder 1' Deck Space Capacity Exceeded\n",
      "TurbineInstallation:\n",
      "\t Warning: 'Feeder 0' Deck Space Capacity Exceeded\n",
      "TurbineInstallation:\n",
      "\t Warning: 'Feeder 1' Deck Space Capacity Exceeded\n",
      "TurbineInstallation:\n",
      "\t Warning: 'Feeder 0' Deck Space Capacity Exceeded\n",
      "TurbineInstallation:\n",
      "\t Warning: 'Feeder 1' Deck Space Capacity Exceeded\n",
      "TurbineInstallation:\n",
      "\t Warning: 'Feeder 0' Deck Space Capacity Exceeded\n",
      "TurbineInstallation:\n",
      "\t Warning: 'Feeder 1' Deck Space Capacity Exceeded\n",
      "TurbineInstallation:\n",
      "\t Warning: 'Feeder 0' Deck Space Capacity Exceeded\n",
      "TurbineInstallation:\n",
      "\t Warning: 'Feeder 1' Deck Space Capacity Exceeded\n",
      "TurbineInstallation:\n",
      "\t Warning: 'Feeder 0' Deck Space Capacity Exceeded\n",
      "TurbineInstallation:\n",
      "\t Warning: 'Feeder 1' Deck Space Capacity Exceeded\n",
      "TurbineInstallation:\n",
      "\t Warning: 'Feeder 0' Deck Space Capacity Exceeded\n",
      "TurbineInstallation:\n",
      "\t Warning: 'Feeder 1' Deck Space Capacity Exceeded\n",
      "TurbineInstallation:\n",
      "\t Warning: 'Feeder 0' Deck Space Capacity Exceeded\n",
      "TurbineInstallation:\n",
      "\t Warning: 'Feeder 1' Deck Space Capacity Exceeded\n",
      "TurbineInstallation:\n",
      "\t Warning: 'Feeder 0' Deck Space Capacity Exceeded\n",
      "TurbineInstallation:\n",
      "\t Warning: 'Feeder 1' Deck Space Capacity Exceeded\n",
      "TurbineInstallation:\n",
      "\t Warning: 'Feeder 0' Deck Space Capacity Exceeded\n",
      "TurbineInstallation:\n",
      "\t Warning: 'Feeder 1' Deck Space Capacity Exceeded\n",
      "TurbineInstallation:\n",
      "\t Warning: 'Feeder 0' Deck Space Capacity Exceeded\n",
      "TurbineInstallation:\n",
      "\t Warning: 'Feeder 1' Deck Space Capacity Exceeded\n",
      "TurbineInstallation:\n",
      "\t Warning: 'Feeder 0' Deck Space Capacity Exceeded\n",
      "TurbineInstallation:\n",
      "\t Warning: 'Feeder 1' Deck Space Capacity Exceeded\n",
      "TurbineInstallation:\n",
      "\t Warning: 'Feeder 0' Deck Space Capacity Exceeded\n",
      "TurbineInstallation:\n",
      "\t Warning: 'Feeder 1' Deck Space Capacity Exceeded\n",
      "TurbineInstallation:\n",
      "\t Warning: 'Feeder 0' Deck Space Capacity Exceeded\n",
      "TurbineInstallation:\n",
      "\t Warning: 'Feeder 1' Deck Space Capacity Exceeded\n",
      "TurbineInstallation:\n",
      "\t Warning: 'Feeder 0' Deck Space Capacity Exceeded\n",
      "TurbineInstallation:\n",
      "\t Warning: 'Feeder 1' Deck Space Capacity Exceeded\n",
      "TurbineInstallation:\n",
      "\t Warning: 'Feeder 0' Deck Space Capacity Exceeded\n",
      "TurbineInstallation:\n",
      "\t Warning: 'Feeder 1' Deck Space Capacity Exceeded\n",
      "TurbineInstallation:\n",
      "\t Warning: 'Feeder 0' Deck Space Capacity Exceeded\n",
      "TurbineInstallation:\n",
      "\t Warning: 'Feeder 1' Deck Space Capacity Exceeded\n",
      "TurbineInstallation:\n",
      "\t Warning: 'Feeder 0' Deck Space Capacity Exceeded\n",
      "TurbineInstallation:\n",
      "\t Warning: 'Feeder 1' Deck Space Capacity Exceeded\n",
      "TurbineInstallation:\n",
      "\t Warning: 'Feeder 0' Deck Space Capacity Exceeded\n",
      "TurbineInstallation:\n",
      "\t Warning: 'Feeder 1' Deck Space Capacity Exceeded\n",
      "TurbineInstallation:\n",
      "\t Warning: 'Feeder 0' Deck Space Capacity Exceeded\n",
      "TurbineInstallation:\n",
      "\t Warning: 'Feeder 1' Deck Space Capacity Exceeded\n",
      "TurbineInstallation:\n",
      "\t Warning: 'Feeder 0' Deck Space Capacity Exceeded\n",
      "TurbineInstallation:\n",
      "\t Warning: 'Feeder 1' Deck Space Capacity Exceeded\n",
      "TurbineInstallation:\n",
      "\t Warning: 'Feeder 0' Deck Space Capacity Exceeded\n",
      "TurbineInstallation:\n",
      "\t Warning: 'Feeder 1' Deck Space Capacity Exceeded\n"
     ]
    }
   ],
   "source": [
    "scenarios = ['natl_gaps_4us']\n",
    "# print(scenarios)\n",
    "\n",
    "dfs = []\n",
    "managers = []\n",
    "all_alloc = []\n",
    "all_future = []\n",
    "cols = ['best_path_forward_south_ne', 'high_deployment_south_ne', 'low_deployment_south_ne', 'best_path_forward_north_ne', 'high_deployment_north_ne', 'low_deployment_north_ne']\n",
    "\n",
    "yrs = np.arange(2023,2043,1)\n",
    "installed_cap = pd.DataFrame(columns=cols, data = np.zeros((len(yrs), len(cols))), index = yrs)\n",
    "\n",
    "for s in scenarios:\n",
    "    with open('analysis/scenarios/%s.yaml' % s) as f:\n",
    "        scenario = yaml.load(f.read(), Loader=yaml.SafeLoader)\n",
    "    # print(scenario)\n",
    "    p = os.path.join(os.getcwd(), \"analysis\", \"pipelines\", \"%s.csv\" % scenario['pipeline'])\n",
    "    pipeline = Pipeline(p, base, base_float, enforce_feeders=True)\n",
    "\n",
    "    description = scenario['description']\n",
    "    allocations = scenario['allocations']\n",
    "    future_resources = scenario['future_resources']\n",
    "\n",
    "    manager, df = run_manager(pipeline, allocations, library, future_resources=future_resources)\n",
    "    managers.append(manager)\n",
    "    dfs.append(df)\n",
    "    all_alloc.append(allocations)\n",
    "    all_future.append(future_resources)\n",
    "\n",
    "    # for region in ['south_ne', 'north_ne']:\n",
    "    #     df_port = df.drop(columns=['index'])\n",
    "    #     if region == 'south_ne':\n",
    "    #         ports = ['new_bedford','new_london']\n",
    "    #     else:\n",
    "    #         ports = ['salem','searsport']\n",
    "        \n",
    "    #     df_region = df_port[df_port['port'].isin(ports)].reset_index(drop=True).reset_index()\n",
    "    #     # display(df_region)\n",
    "    #     df_region['finished'] = df_region['Date Finished'].dt.year\n",
    "    #     df_finished = df_region.groupby(['finished']).capacity.sum().reset_index()\n",
    "    #     # display(df_finished)\n",
    "    #     mapping = dict(df_finished[['finished','capacity']].values)\n",
    "    #     installed_cap['%s_%s' % (s,region)] = installed_cap.index.map(mapping)\n",
    "# display(installed_cap)\n",
    "# installed_cap.to_csv('analysis/results/installed_cap_%s.csv' % region)\n"
   ]
  },
  {
   "attachments": {},
   "cell_type": "markdown",
   "metadata": {},
   "source": [
    "# Plot Vessel Utilization"
   ]
  },
  {
   "cell_type": "code",
   "execution_count": 5,
   "metadata": {},
   "outputs": [],
   "source": [
    "yrs = np.arange(2023,2061)\n",
    "df_util = pd.DataFrame(columns = ['wtiv', 'us_wtiv', 'ffiv', 'ahts'], index=yrs)\n",
    "df_util = df_util.fillna(0)\n",
    "# display(df_util)\n",
    "df = dfs[0]\n",
    "\n",
    "for _,project in df.iterrows():\n",
    "    # FOUNDATIONS\n",
    "    if project['substructure'] in ('monopile','jacket'):\n",
    "        if project['Date FoundationFinished'].year == project['Date Started'].year:\n",
    "            util = (project['Date FoundationFinished'].date() - project['Date Started'].date()).days * 24\n",
    "            df_util.loc[project['Date FoundationFinished'].year,'ffiv'] += util\n",
    "        else:\n",
    "            total = project['Date FoundationFinished'].date() - project['Date Started'].date()\n",
    "            for year in np.arange(project['Date Started'].year,project['Date FoundationFinished'].year + 1):\n",
    "                if year == project['Date Started'].year:\n",
    "                    util = (dt.date(year + 1, 1, 1) - project[\"Date Started\"].date()).days * 24\n",
    "                elif year == project['Date FoundationFinished'].year:\n",
    "                    util = (project['Date FoundationFinished'].date() - dt.date(year,1,1)).days * 24\n",
    "                else:\n",
    "                    util = (dt.date(year + 1, 1, 1) - dt.date(year, 1, 1)).days * 24\n",
    "                df_util.loc[year,'ffiv'] += util\n",
    "\n",
    "    # TURBINES\n",
    "    if project['substructure'] in ('monopile','jacket'):\n",
    "        if project['Date Finished'].year == project['Date FoundationFinished'].year:\n",
    "            util = (project['Date Finished'].date() - project['Date FoundationFinished'].date()).days * 24\n",
    "            if project['us_wtiv']:\n",
    "                df_util.loc[project['Date Finished'].year,'us_wtiv'] += util\n",
    "            else:\n",
    "                df_util.loc[project['Date Finished'].year,'wtiv'] += util\n",
    "        else:\n",
    "            total = project['Date Finished'].date() - project['Date FoundationFinished'].date()\n",
    "            for year in np.arange(project['Date FoundationFinished'].year,project['Date Finished'].year + 1):\n",
    "                if year == project['Date FoundationFinished'].year:\n",
    "                    util = (dt.date(year + 1, 1, 1) - project[\"Date FoundationFinished\"].date()).days * 24\n",
    "                elif year == project['Date Finished'].year:\n",
    "                    util = (project['Date Finished'].date() - dt.date(year,1,1)).days * 24\n",
    "                else:\n",
    "                    util = (dt.date(year + 1, 1, 1) - dt.date(year, 1, 1)).days * 24\n",
    "\n",
    "                if project['us_wtiv']:\n",
    "                    df_util.loc[year,'us_wtiv'] += util\n",
    "                else:\n",
    "                    df_util.loc[year,'wtiv'] += util\n",
    "    else:\n",
    "        if project['Date Finished'].year == project['Date Started'].year:\n",
    "            util = (project['Date Finished'].date() - project['Date Started'].date()).days * 24\n",
    "            df_util.loc[project['Date Finished'].year,'ffiv'] += util\n",
    "        else:\n",
    "            total = project['Date Finished'].date() - project['Date Started'].date()\n",
    "            for year in np.arange(project['Date Started'].year,project['Date Finished'].year + 1):\n",
    "                if year == project['Date Started'].year:\n",
    "                    util = (dt.date(year + 1, 1, 1) - project[\"Date Started\"].date()).days * 24\n",
    "                elif year == project['Date Finished'].year:\n",
    "                    util = (project['Date Finished'].date() - dt.date(year,1,1)).days * 24\n",
    "                else:\n",
    "                    util = (dt.date(year + 1, 1, 1) - dt.date(year, 1, 1)).days * 24\n",
    "                df_util.loc[year,'ahts'] += util\n",
    "    \n",
    "# display(df_util)"
   ]
  },
  {
   "cell_type": "code",
   "execution_count": 6,
   "metadata": {},
   "outputs": [],
   "source": [
    "def vessel_hours(df):\n",
    "    yrs = np.arange(2023,2061)\n",
    "    df_util = pd.DataFrame(columns = ['example_wtiv', 'example_wtiv_us', 'example_heavy_lift_vessel', 'example_ahts_vessel'], index=yrs)\n",
    "    df_util = df_util.fillna(0)\n",
    "\n",
    "    for _,project in df.iterrows():\n",
    "        # FOUNDATIONS\n",
    "        if project['substructure'] in ('monopile','jacket'):\n",
    "            if project['Date FoundationFinished'].year == project['Date Started'].year:\n",
    "                util = (project['Date FoundationFinished'].date() - project['Date Started'].date()).days * 24\n",
    "                df_util.loc[project['Date FoundationFinished'].year,'example_heavy_lift_vessel'] += util\n",
    "            else:\n",
    "                total = project['Date FoundationFinished'].date() - project['Date Started'].date()\n",
    "                for year in np.arange(project['Date Started'].year,project['Date FoundationFinished'].year + 1):\n",
    "                    if year == project['Date Started'].year:\n",
    "                        util = (dt.date(year + 1, 1, 1) - project[\"Date Started\"].date()).days * 24\n",
    "                    elif year == project['Date FoundationFinished'].year:\n",
    "                        util = (project['Date FoundationFinished'].date() - dt.date(year,1,1)).days * 24\n",
    "                    else:\n",
    "                        util = (dt.date(year + 1, 1, 1) - dt.date(year, 1, 1)).days * 24\n",
    "                    df_util.loc[year,'example_heavy_lift_vessel'] += util\n",
    "\n",
    "        # TURBINES\n",
    "        if project['substructure'] in ('monopile','jacket'):\n",
    "            if project['Date Finished'].year == project['Date FoundationFinished'].year:\n",
    "                util = (project['Date Finished'].date() - project['Date FoundationFinished'].date()).days * 24\n",
    "                if project['us_wtiv']:\n",
    "                    df_util.loc[project['Date Finished'].year,'example_wtiv_us'] += util\n",
    "                else:\n",
    "                    df_util.loc[project['Date Finished'].year,'example_wtiv'] += util\n",
    "            else:\n",
    "                total = project['Date Finished'].date() - project['Date FoundationFinished'].date()\n",
    "                for year in np.arange(project['Date FoundationFinished'].year,project['Date Finished'].year + 1):\n",
    "                    if year == project['Date FoundationFinished'].year:\n",
    "                        util = (dt.date(year + 1, 1, 1) - project[\"Date FoundationFinished\"].date()).days * 24\n",
    "                    elif year == project['Date Finished'].year:\n",
    "                        util = (project['Date Finished'].date() - dt.date(year,1,1)).days * 24\n",
    "                    else:\n",
    "                        util = (dt.date(year + 1, 1, 1) - dt.date(year, 1, 1)).days * 24\n",
    "\n",
    "                    if project['us_wtiv']:\n",
    "                        df_util.loc[year,'example_wtiv_us'] += util\n",
    "                    else:\n",
    "                        df_util.loc[year,'example_wtiv'] += util\n",
    "        else:\n",
    "            if project['Date Finished'].year == project['Date Started'].year:\n",
    "                util = (project['Date Finished'].date() - project['Date Started'].date()).days * 24\n",
    "                df_util.loc[project['Date Finished'].year,'example_ahts_vessel'] += util\n",
    "            else:\n",
    "                total = project['Date Finished'].date() - project['Date Started'].date()\n",
    "                for year in np.arange(project['Date Started'].year,project['Date Finished'].year + 1):\n",
    "                    if year == project['Date Started'].year:\n",
    "                        util = (dt.date(year + 1, 1, 1) - project[\"Date Started\"].date()).days * 24\n",
    "                    elif year == project['Date Finished'].year:\n",
    "                        util = (project['Date Finished'].date() - dt.date(year,1,1)).days * 24\n",
    "                    else:\n",
    "                        util = (dt.date(year + 1, 1, 1) - dt.date(year, 1, 1)).days * 24\n",
    "                    df_util.loc[year,'example_ahts_vessel'] += util\n",
    "        \n",
    "    return(df_util)"
   ]
  },
  {
   "cell_type": "code",
   "execution_count": 7,
   "metadata": {},
   "outputs": [],
   "source": [
    "# vessel_hours(dfs[0])"
   ]
  },
  {
   "cell_type": "code",
   "execution_count": 8,
   "metadata": {},
   "outputs": [],
   "source": [
    "def vessel_pipeline(allocs, futures):\n",
    "    yrs = np.arange(2023,2061)\n",
    "    # dates = pd.to_datetime(yrs, format='%Y')\n",
    "    fig = plt.figure(figsize=(10,4), dpi=200)\n",
    "    ax = fig.add_subplot(111)\n",
    "    vessel_types = ['example_wtiv','example_heavy_lift_vessel', 'example_wtiv_us', 'example_ahts_vessel']\n",
    "    init_alloc = [allocs['wtiv'][1][1], allocs['wtiv'][0][1], allocs['wtiv'][2][1], allocs['ahts_vessel'][1]]\n",
    "    vessel_count = pd.DataFrame(columns=vessel_types, data = np.ones((len(yrs), len(vessel_types))), index = yrs)\n",
    "    vessel_count = vessel_count.mul(init_alloc)\n",
    "    # vessel_count.iloc[0] = init_alloc\n",
    "\n",
    "    for vessel in vessel_types:\n",
    "        for vessel_type in futures:\n",
    "            if vessel_type[1] == vessel:\n",
    "                years = [x.year for x in vessel_type[2]]\n",
    "                for year in years:\n",
    "                    vessel_count.loc[year:,vessel] += 1\n",
    "    \n",
    "    # vessel_count.loc[:,'total'] = vessel_count.sum(axis=1)\n",
    "    # vessel_count['total'] = vessel_count['total'].cumsum()\n",
    "\n",
    "    return(vessel_count)"
   ]
  },
  {
   "cell_type": "code",
   "execution_count": 9,
   "metadata": {},
   "outputs": [
    {
     "data": {
      "text/html": [
       "<div>\n",
       "<style scoped>\n",
       "    .dataframe tbody tr th:only-of-type {\n",
       "        vertical-align: middle;\n",
       "    }\n",
       "\n",
       "    .dataframe tbody tr th {\n",
       "        vertical-align: top;\n",
       "    }\n",
       "\n",
       "    .dataframe thead th {\n",
       "        text-align: right;\n",
       "    }\n",
       "</style>\n",
       "<table border=\"1\" class=\"dataframe\">\n",
       "  <thead>\n",
       "    <tr style=\"text-align: right;\">\n",
       "      <th></th>\n",
       "      <th>example_wtiv</th>\n",
       "      <th>example_heavy_lift_vessel</th>\n",
       "      <th>example_wtiv_us</th>\n",
       "      <th>example_ahts_vessel</th>\n",
       "    </tr>\n",
       "  </thead>\n",
       "  <tbody>\n",
       "    <tr>\n",
       "      <th>2023</th>\n",
       "      <td>2.0</td>\n",
       "      <td>3.0</td>\n",
       "      <td>1.0</td>\n",
       "      <td>2.0</td>\n",
       "    </tr>\n",
       "    <tr>\n",
       "      <th>2024</th>\n",
       "      <td>2.0</td>\n",
       "      <td>3.0</td>\n",
       "      <td>1.0</td>\n",
       "      <td>2.0</td>\n",
       "    </tr>\n",
       "    <tr>\n",
       "      <th>2025</th>\n",
       "      <td>2.0</td>\n",
       "      <td>3.0</td>\n",
       "      <td>1.0</td>\n",
       "      <td>2.0</td>\n",
       "    </tr>\n",
       "    <tr>\n",
       "      <th>2026</th>\n",
       "      <td>2.0</td>\n",
       "      <td>3.0</td>\n",
       "      <td>1.0</td>\n",
       "      <td>2.0</td>\n",
       "    </tr>\n",
       "    <tr>\n",
       "      <th>2027</th>\n",
       "      <td>2.0</td>\n",
       "      <td>3.0</td>\n",
       "      <td>1.0</td>\n",
       "      <td>2.0</td>\n",
       "    </tr>\n",
       "    <tr>\n",
       "      <th>2028</th>\n",
       "      <td>2.0</td>\n",
       "      <td>3.0</td>\n",
       "      <td>1.0</td>\n",
       "      <td>2.0</td>\n",
       "    </tr>\n",
       "    <tr>\n",
       "      <th>2029</th>\n",
       "      <td>2.0</td>\n",
       "      <td>3.0</td>\n",
       "      <td>1.0</td>\n",
       "      <td>2.0</td>\n",
       "    </tr>\n",
       "    <tr>\n",
       "      <th>2030</th>\n",
       "      <td>2.0</td>\n",
       "      <td>4.0</td>\n",
       "      <td>2.0</td>\n",
       "      <td>2.0</td>\n",
       "    </tr>\n",
       "    <tr>\n",
       "      <th>2031</th>\n",
       "      <td>2.0</td>\n",
       "      <td>4.0</td>\n",
       "      <td>2.0</td>\n",
       "      <td>2.0</td>\n",
       "    </tr>\n",
       "    <tr>\n",
       "      <th>2032</th>\n",
       "      <td>2.0</td>\n",
       "      <td>4.0</td>\n",
       "      <td>2.0</td>\n",
       "      <td>2.0</td>\n",
       "    </tr>\n",
       "    <tr>\n",
       "      <th>2033</th>\n",
       "      <td>2.0</td>\n",
       "      <td>5.0</td>\n",
       "      <td>3.0</td>\n",
       "      <td>2.0</td>\n",
       "    </tr>\n",
       "    <tr>\n",
       "      <th>2034</th>\n",
       "      <td>2.0</td>\n",
       "      <td>5.0</td>\n",
       "      <td>3.0</td>\n",
       "      <td>2.0</td>\n",
       "    </tr>\n",
       "    <tr>\n",
       "      <th>2035</th>\n",
       "      <td>2.0</td>\n",
       "      <td>5.0</td>\n",
       "      <td>3.0</td>\n",
       "      <td>2.0</td>\n",
       "    </tr>\n",
       "    <tr>\n",
       "      <th>2036</th>\n",
       "      <td>2.0</td>\n",
       "      <td>6.0</td>\n",
       "      <td>4.0</td>\n",
       "      <td>2.0</td>\n",
       "    </tr>\n",
       "    <tr>\n",
       "      <th>2037</th>\n",
       "      <td>2.0</td>\n",
       "      <td>6.0</td>\n",
       "      <td>4.0</td>\n",
       "      <td>2.0</td>\n",
       "    </tr>\n",
       "    <tr>\n",
       "      <th>2038</th>\n",
       "      <td>2.0</td>\n",
       "      <td>6.0</td>\n",
       "      <td>4.0</td>\n",
       "      <td>2.0</td>\n",
       "    </tr>\n",
       "    <tr>\n",
       "      <th>2039</th>\n",
       "      <td>2.0</td>\n",
       "      <td>6.0</td>\n",
       "      <td>4.0</td>\n",
       "      <td>2.0</td>\n",
       "    </tr>\n",
       "    <tr>\n",
       "      <th>2040</th>\n",
       "      <td>2.0</td>\n",
       "      <td>6.0</td>\n",
       "      <td>4.0</td>\n",
       "      <td>2.0</td>\n",
       "    </tr>\n",
       "    <tr>\n",
       "      <th>2041</th>\n",
       "      <td>2.0</td>\n",
       "      <td>6.0</td>\n",
       "      <td>4.0</td>\n",
       "      <td>2.0</td>\n",
       "    </tr>\n",
       "    <tr>\n",
       "      <th>2042</th>\n",
       "      <td>2.0</td>\n",
       "      <td>6.0</td>\n",
       "      <td>4.0</td>\n",
       "      <td>2.0</td>\n",
       "    </tr>\n",
       "    <tr>\n",
       "      <th>2043</th>\n",
       "      <td>2.0</td>\n",
       "      <td>6.0</td>\n",
       "      <td>4.0</td>\n",
       "      <td>2.0</td>\n",
       "    </tr>\n",
       "    <tr>\n",
       "      <th>2044</th>\n",
       "      <td>2.0</td>\n",
       "      <td>6.0</td>\n",
       "      <td>4.0</td>\n",
       "      <td>2.0</td>\n",
       "    </tr>\n",
       "    <tr>\n",
       "      <th>2045</th>\n",
       "      <td>2.0</td>\n",
       "      <td>6.0</td>\n",
       "      <td>4.0</td>\n",
       "      <td>2.0</td>\n",
       "    </tr>\n",
       "    <tr>\n",
       "      <th>2046</th>\n",
       "      <td>2.0</td>\n",
       "      <td>6.0</td>\n",
       "      <td>4.0</td>\n",
       "      <td>2.0</td>\n",
       "    </tr>\n",
       "    <tr>\n",
       "      <th>2047</th>\n",
       "      <td>2.0</td>\n",
       "      <td>6.0</td>\n",
       "      <td>4.0</td>\n",
       "      <td>2.0</td>\n",
       "    </tr>\n",
       "    <tr>\n",
       "      <th>2048</th>\n",
       "      <td>2.0</td>\n",
       "      <td>6.0</td>\n",
       "      <td>4.0</td>\n",
       "      <td>2.0</td>\n",
       "    </tr>\n",
       "    <tr>\n",
       "      <th>2049</th>\n",
       "      <td>2.0</td>\n",
       "      <td>6.0</td>\n",
       "      <td>4.0</td>\n",
       "      <td>2.0</td>\n",
       "    </tr>\n",
       "    <tr>\n",
       "      <th>2050</th>\n",
       "      <td>2.0</td>\n",
       "      <td>6.0</td>\n",
       "      <td>4.0</td>\n",
       "      <td>2.0</td>\n",
       "    </tr>\n",
       "    <tr>\n",
       "      <th>2051</th>\n",
       "      <td>2.0</td>\n",
       "      <td>6.0</td>\n",
       "      <td>4.0</td>\n",
       "      <td>2.0</td>\n",
       "    </tr>\n",
       "    <tr>\n",
       "      <th>2052</th>\n",
       "      <td>2.0</td>\n",
       "      <td>6.0</td>\n",
       "      <td>4.0</td>\n",
       "      <td>2.0</td>\n",
       "    </tr>\n",
       "    <tr>\n",
       "      <th>2053</th>\n",
       "      <td>2.0</td>\n",
       "      <td>6.0</td>\n",
       "      <td>4.0</td>\n",
       "      <td>2.0</td>\n",
       "    </tr>\n",
       "    <tr>\n",
       "      <th>2054</th>\n",
       "      <td>2.0</td>\n",
       "      <td>6.0</td>\n",
       "      <td>4.0</td>\n",
       "      <td>2.0</td>\n",
       "    </tr>\n",
       "    <tr>\n",
       "      <th>2055</th>\n",
       "      <td>2.0</td>\n",
       "      <td>6.0</td>\n",
       "      <td>4.0</td>\n",
       "      <td>2.0</td>\n",
       "    </tr>\n",
       "    <tr>\n",
       "      <th>2056</th>\n",
       "      <td>2.0</td>\n",
       "      <td>6.0</td>\n",
       "      <td>4.0</td>\n",
       "      <td>2.0</td>\n",
       "    </tr>\n",
       "    <tr>\n",
       "      <th>2057</th>\n",
       "      <td>2.0</td>\n",
       "      <td>6.0</td>\n",
       "      <td>4.0</td>\n",
       "      <td>2.0</td>\n",
       "    </tr>\n",
       "    <tr>\n",
       "      <th>2058</th>\n",
       "      <td>2.0</td>\n",
       "      <td>6.0</td>\n",
       "      <td>4.0</td>\n",
       "      <td>2.0</td>\n",
       "    </tr>\n",
       "    <tr>\n",
       "      <th>2059</th>\n",
       "      <td>2.0</td>\n",
       "      <td>6.0</td>\n",
       "      <td>4.0</td>\n",
       "      <td>2.0</td>\n",
       "    </tr>\n",
       "    <tr>\n",
       "      <th>2060</th>\n",
       "      <td>2.0</td>\n",
       "      <td>6.0</td>\n",
       "      <td>4.0</td>\n",
       "      <td>2.0</td>\n",
       "    </tr>\n",
       "  </tbody>\n",
       "</table>\n",
       "</div>"
      ],
      "text/plain": [
       "      example_wtiv  example_heavy_lift_vessel  example_wtiv_us  \\\n",
       "2023           2.0                        3.0              1.0   \n",
       "2024           2.0                        3.0              1.0   \n",
       "2025           2.0                        3.0              1.0   \n",
       "2026           2.0                        3.0              1.0   \n",
       "2027           2.0                        3.0              1.0   \n",
       "2028           2.0                        3.0              1.0   \n",
       "2029           2.0                        3.0              1.0   \n",
       "2030           2.0                        4.0              2.0   \n",
       "2031           2.0                        4.0              2.0   \n",
       "2032           2.0                        4.0              2.0   \n",
       "2033           2.0                        5.0              3.0   \n",
       "2034           2.0                        5.0              3.0   \n",
       "2035           2.0                        5.0              3.0   \n",
       "2036           2.0                        6.0              4.0   \n",
       "2037           2.0                        6.0              4.0   \n",
       "2038           2.0                        6.0              4.0   \n",
       "2039           2.0                        6.0              4.0   \n",
       "2040           2.0                        6.0              4.0   \n",
       "2041           2.0                        6.0              4.0   \n",
       "2042           2.0                        6.0              4.0   \n",
       "2043           2.0                        6.0              4.0   \n",
       "2044           2.0                        6.0              4.0   \n",
       "2045           2.0                        6.0              4.0   \n",
       "2046           2.0                        6.0              4.0   \n",
       "2047           2.0                        6.0              4.0   \n",
       "2048           2.0                        6.0              4.0   \n",
       "2049           2.0                        6.0              4.0   \n",
       "2050           2.0                        6.0              4.0   \n",
       "2051           2.0                        6.0              4.0   \n",
       "2052           2.0                        6.0              4.0   \n",
       "2053           2.0                        6.0              4.0   \n",
       "2054           2.0                        6.0              4.0   \n",
       "2055           2.0                        6.0              4.0   \n",
       "2056           2.0                        6.0              4.0   \n",
       "2057           2.0                        6.0              4.0   \n",
       "2058           2.0                        6.0              4.0   \n",
       "2059           2.0                        6.0              4.0   \n",
       "2060           2.0                        6.0              4.0   \n",
       "\n",
       "      example_ahts_vessel  \n",
       "2023                  2.0  \n",
       "2024                  2.0  \n",
       "2025                  2.0  \n",
       "2026                  2.0  \n",
       "2027                  2.0  \n",
       "2028                  2.0  \n",
       "2029                  2.0  \n",
       "2030                  2.0  \n",
       "2031                  2.0  \n",
       "2032                  2.0  \n",
       "2033                  2.0  \n",
       "2034                  2.0  \n",
       "2035                  2.0  \n",
       "2036                  2.0  \n",
       "2037                  2.0  \n",
       "2038                  2.0  \n",
       "2039                  2.0  \n",
       "2040                  2.0  \n",
       "2041                  2.0  \n",
       "2042                  2.0  \n",
       "2043                  2.0  \n",
       "2044                  2.0  \n",
       "2045                  2.0  \n",
       "2046                  2.0  \n",
       "2047                  2.0  \n",
       "2048                  2.0  \n",
       "2049                  2.0  \n",
       "2050                  2.0  \n",
       "2051                  2.0  \n",
       "2052                  2.0  \n",
       "2053                  2.0  \n",
       "2054                  2.0  \n",
       "2055                  2.0  \n",
       "2056                  2.0  \n",
       "2057                  2.0  \n",
       "2058                  2.0  \n",
       "2059                  2.0  \n",
       "2060                  2.0  "
      ]
     },
     "execution_count": 9,
     "metadata": {},
     "output_type": "execute_result"
    }
   ],
   "source": [
    "allocs = all_alloc[0]\n",
    "futures = all_future[0]\n",
    "vessel_pipeline(allocs,futures)"
   ]
  },
  {
   "cell_type": "code",
   "execution_count": 22,
   "metadata": {},
   "outputs": [
    {
     "data": {
      "text/plain": [
       "example_wtiv                    984\n",
       "example_wtiv_us                4848\n",
       "example_heavy_lift_vessel    218736\n",
       "example_ahts_vessel          360720\n",
       "dtype: int64"
      ]
     },
     "metadata": {},
     "output_type": "display_data"
    }
   ],
   "source": [
    "df_vessel_util = vessel_hours(dfs[0])\n",
    "display(df_vessel_util.sum())\n",
    "df_vessel_count = vessel_pipeline(allocs,futures)\n",
    "df_perc_util = df_vessel_util / df_vessel_count / 8766 * 100"
   ]
  },
  {
   "cell_type": "code",
   "execution_count": 20,
   "metadata": {},
   "outputs": [
    {
     "data": {
      "image/png": "[encoded data removed]",
      "text/plain": [
       "<Figure size 2000x1000 with 1 Axes>"
      ]
     },
     "metadata": {},
     "output_type": "display_data"
    }
   ],
   "source": [
    "fig = plt.figure(figsize=(10,5), dpi=200)\n",
    "ax = fig.add_subplot(111)\n",
    "df_perc_util.plot(kind='bar', ax=ax)\n",
    "ax.set_xlabel(\"\")\n",
    "ax.set_ylabel(\"Vessel Utilization (%)\")\n",
    "plt.show()"
   ]
  },
  {
   "cell_type": "code",
   "execution_count": 12,
   "metadata": {},
   "outputs": [],
   "source": [
    "# fig = plt.figure(figsize=(10,5), dpi=200)\n",
    "# ax = fig.add_subplot(111)\n",
    "# df_perc_util.plot(kind='bar', ax=ax)\n",
    "# ax.set_xlabel(\"\")\n",
    "# ax.set_ylabel(\"Vessel Utilization (%)\")\n",
    "# plt.show()\n",
    "\n",
    "def read_yaml(scenario, path):\n",
    "        # set up yaml reading\n",
    "    def tuple_constructor(loader, node):\n",
    "        # Load the sequence of values from the YAML node\n",
    "        values = loader.construct_sequence(node)\n",
    "        # Return a tuple constructed from the sequence\n",
    "        return tuple(values)\n",
    "    # Register the constructor with PyYAML\n",
    "    yaml.SafeLoader.add_constructor('tag:yaml.org,2002:python/tuple', tuple_constructor)\n",
    " \n",
    "    yaml_path = '%s/%s.yaml' % (path, scenario)\n",
    "    with open(yaml_path) as f:\n",
    "        scenario = yaml.load(f.read(), Loader=yaml.SafeLoader)\n",
    "    return(scenario)"
   ]
  },
  {
   "cell_type": "code",
   "execution_count": 13,
   "metadata": {},
   "outputs": [
    {
     "name": "stdout",
     "output_type": "stream",
     "text": [
      "[12500.0, 20833.333333333332, 20833.333333333332, 4166.666666666667]\n"
     ]
    }
   ],
   "source": [
    "vessel_types = ['example_wtiv','example_heavy_lift_vessel', 'example_wtiv_us', 'example_ahts_vessel']\n",
    "vessel_rates = []\n",
    "for vessel in vessel_types:\n",
    "    rate_path = 'analysis/library/vessels'\n",
    "    vessel_yaml = read_yaml(vessel, rate_path)\n",
    "    vessel_rate = vessel_yaml['vessel_specs']['day_rate'] / 24\n",
    "    vessel_rates.append(vessel_rate)\n",
    "print(vessel_rates)"
   ]
  },
  {
   "attachments": {},
   "cell_type": "markdown",
   "metadata": {},
   "source": [
    "# Plot Installed Capacity"
   ]
  },
  {
   "cell_type": "code",
   "execution_count": null,
   "metadata": {},
   "outputs": [],
   "source": []
  },
  {
   "cell_type": "code",
   "execution_count": 14,
   "metadata": {},
   "outputs": [],
   "source": [
    "def installed_cap(dfs, desc):\n",
    "\n",
    "    cum_desc = []\n",
    "    i = 0\n",
    "    for d in desc:\n",
    "        cum_desc.append(\"%s cumulative\" % d)\n",
    "        i += 1\n",
    "    yrs = np.arange(2023,2043,1)\n",
    "    df_cap = pd.DataFrame(columns=desc, data = np.zeros((len(yrs), len(desc))), index = yrs)\n",
    "    df_cum = pd.DataFrame(columns=cum_desc, data = np.zeros((len(yrs), len(desc))), index = yrs)\n",
    "\n",
    "    dfs[0]['cod'] = dfs[0]['estimated_cod'].dt.year\n",
    "    df_cod = dfs[0].groupby(['cod']).capacity.sum().reset_index()\n",
    "    df_cod['sum'] = df_cod['capacity'].cumsum(axis=0) / 1000\n",
    "\n",
    "    fig = plt.figure(figsize=(8, 10), dpi=200)\n",
    "    ax = fig.add_subplot(1,1,1)\n",
    "\n",
    "    # df_cod.plot(kind='line', x='cod', y='sum', color='k', ax=ax, label='Unconstrained Resources')\n",
    "    i=0\n",
    "    width = 0.25\n",
    "\n",
    "    for df in dfs:\n",
    "        df['finished'] = df['Date Finished'].dt.year\n",
    "        df_finished = df.groupby(['finished']).capacity.sum().reset_index()\n",
    "        df_finished['capacity'] = df_finished['capacity'] / 1000\n",
    "        df_finished['sum'] = df_finished['capacity'].cumsum(axis=0)\n",
    "\n",
    "        cap_mapping = dict(df_finished[['finished', 'capacity']].values)\n",
    "        df_cap[desc[i]] = df_cap.index.map(cap_mapping).fillna(0)\n",
    "\n",
    "        df_cum[cum_desc[i]] = df_cap[desc[i]].cumsum(axis=0)\n",
    "        i += 1\n",
    "\n",
    "    df = pd.concat([df_cap, df_cum], axis=1)\n",
    "    # df['year'] = yrs\n",
    "    # display(df)\n",
    "    df[cum_desc].plot(linestyle = '-', ax=ax, use_index=False)\n",
    "    df[desc].plot(kind='bar', ax=ax)\n",
    "    # df_cap.plot.bar(rot=0)\n",
    "    \n",
    "    ax.set_xlabel(\"\")\n",
    "    ax.set_ylabel(\"Capacity (GW)\")\n",
    "    ax.get_yaxis().set_major_formatter(\n",
    "        matplotlib.ticker.FuncFormatter(lambda x, p: format(int(x), ',')))\n",
    "    ax.legend()"
   ]
  },
  {
   "cell_type": "code",
   "execution_count": 15,
   "metadata": {},
   "outputs": [],
   "source": [
    "installed_cap(dfs, scenarios)"
   ]
  },
  {
   "cell_type": "code",
   "execution_count": 16,
   "metadata": {},
   "outputs": [
    {
     "data": {
      "text/plain": [
       "<AxesSubplot:xlabel='month'>"
      ]
     },
     "execution_count": 16,
     "metadata": {},
     "output_type": "execute_result"
    }
   ],
   "source": [
    "# sample\n",
    "df = pd.DataFrame({\n",
    "    'month': ['jan', 'feb', 'mar', 'apr', 'may', 'jun', 'jul', 'aug', 'sep', 'oct', 'nov', 'dec'], \n",
    "    '2013_val': [1, 2, 3, 4, 5, 6, 7, 8, 9, 10, 9, 6], \n",
    "    '2014_val': [4.0, 5.0, *[float('nan')]*10], \n",
    "    '2014_target_val': [2, 3, 4, 5, 6, 7, 8, 9, 10, 11, 12, 13]})\n",
    "\n",
    "# month data to datetime\n",
    "df['month'] = pd.to_datetime(df['month'], format='%b')\n",
    "\n",
    "fig, ax = plt.subplots(1, facecolor='white')\n",
    "df.plot(y='2014_target_val', linestyle='-', marker='o', ax=ax)\n",
    "df.plot(x='month', y=['2013_val', '2014_val'], kind='bar', ax=ax)\n"
   ]
  },
  {
   "attachments": {},
   "cell_type": "markdown",
   "metadata": {},
   "source": [
    "# Investment Plots"
   ]
  },
  {
   "cell_type": "code",
   "execution_count": 23,
   "metadata": {},
   "outputs": [],
   "source": [
    "low_vessel_costs = {\n",
    "    \"example_wtiv\": 550,\n",
    "    \"example_heavy_lift_vessel\": 500,\n",
    "    \"example_heavy_feeder\": 250,\n",
    "    \"example_ahts_vessel\": 75\n",
    "}\n",
    "\n",
    "avg_vessel_costs = {\n",
    "    \"example_wtiv\": 615,\n",
    "    \"example_heavy_lift_vessel\": 625,\n",
    "    \"example_heavy_feeder_1kit\": 250,\n",
    "    \"example_feeder\": 250,\n",
    "    \"example_ahts_vessel\": 80\n",
    "}\n",
    "\n",
    "high_vessel_costs = {\n",
    "    \"wtiv\": 680,\n",
    "    \"hlv\": 750,\n",
    "    \"feeder\": 300,\n",
    "    \"ahts_vessel\": 85\n",
    "}"
   ]
  },
  {
   "cell_type": "code",
   "execution_count": 24,
   "metadata": {},
   "outputs": [
    {
     "name": "stdout",
     "output_type": "stream",
     "text": [
      "{'ahts_vessel': ('example_ahts_vessel', 2), 'feeder': [('example_heavy_feeder_1kit', 6), ('example_feeder', 4)], 'towing_vessel': ('example_towing_vessel', 100), 'wtiv': [('example_heavy_lift_vessel', 3), ('example_wtiv', 2), ('example_wtiv_us', 1)], 'port': [('new_london', 1), ('new_bedford', 1), ('sbmt', 0), ('njwp_1', 0), ('njwp_2', 0), ('searsport_1', 0), ('searsport_2', 0), ('tradepoint_1', 0), ('tradepoint_2', 0), ('portsmouth_1', 0), ('portsmouth_2', 0), ('salem', 0), ('arthur_kill', 0)]}\n"
     ]
    },
    {
     "ename": "NameError",
     "evalue": "name 'dates' is not defined",
     "output_type": "error",
     "traceback": [
      "\u001b[1;31m---------------------------------------------------------------------------\u001b[0m",
      "\u001b[1;31mNameError\u001b[0m                                 Traceback (most recent call last)",
      "\u001b[1;32m<ipython-input-24-c3c7e6e586c6>\u001b[0m in \u001b[0;36m<module>\u001b[1;34m\u001b[0m\n\u001b[0;32m      7\u001b[0m \u001b[0myrs\u001b[0m \u001b[1;33m=\u001b[0m \u001b[0mnp\u001b[0m\u001b[1;33m.\u001b[0m\u001b[0marange\u001b[0m\u001b[1;33m(\u001b[0m\u001b[1;36m2023\u001b[0m\u001b[1;33m,\u001b[0m\u001b[1;36m2043\u001b[0m\u001b[1;33m)\u001b[0m\u001b[1;33m\u001b[0m\u001b[1;33m\u001b[0m\u001b[0m\n\u001b[0;32m      8\u001b[0m \u001b[1;31m# dates = pd.to_datetime(yrs, format='%Y')\u001b[0m\u001b[1;33m\u001b[0m\u001b[1;33m\u001b[0m\u001b[1;33m\u001b[0m\u001b[0m\n\u001b[1;32m----> 9\u001b[1;33m \u001b[0mvessel_investment\u001b[0m \u001b[1;33m=\u001b[0m \u001b[0mpd\u001b[0m\u001b[1;33m.\u001b[0m\u001b[0mDataFrame\u001b[0m\u001b[1;33m(\u001b[0m\u001b[0mcolumns\u001b[0m\u001b[1;33m=\u001b[0m\u001b[0mvessel_types\u001b[0m\u001b[1;33m,\u001b[0m \u001b[0mdata\u001b[0m \u001b[1;33m=\u001b[0m \u001b[0mnp\u001b[0m\u001b[1;33m.\u001b[0m\u001b[0mzeros\u001b[0m\u001b[1;33m(\u001b[0m\u001b[1;33m(\u001b[0m\u001b[0mlen\u001b[0m\u001b[1;33m(\u001b[0m\u001b[0myrs\u001b[0m\u001b[1;33m)\u001b[0m\u001b[1;33m,\u001b[0m \u001b[0mlen\u001b[0m\u001b[1;33m(\u001b[0m\u001b[0mvessel_types\u001b[0m\u001b[1;33m)\u001b[0m\u001b[1;33m)\u001b[0m\u001b[1;33m)\u001b[0m\u001b[1;33m,\u001b[0m \u001b[0mindex\u001b[0m \u001b[1;33m=\u001b[0m \u001b[0mdates\u001b[0m\u001b[1;33m)\u001b[0m\u001b[1;33m\u001b[0m\u001b[1;33m\u001b[0m\u001b[0m\n\u001b[0m\u001b[0;32m     10\u001b[0m \u001b[0mvessel_investment\u001b[0m\u001b[1;33m.\u001b[0m\u001b[0miloc\u001b[0m\u001b[1;33m[\u001b[0m\u001b[1;36m0\u001b[0m\u001b[1;33m]\u001b[0m \u001b[1;33m=\u001b[0m \u001b[0minit_alloc\u001b[0m\u001b[1;33m\u001b[0m\u001b[1;33m\u001b[0m\u001b[0m\n\u001b[0;32m     11\u001b[0m \u001b[0mdisplay\u001b[0m\u001b[1;33m(\u001b[0m\u001b[0mvessel_investment\u001b[0m\u001b[1;33m)\u001b[0m\u001b[1;33m\u001b[0m\u001b[1;33m\u001b[0m\u001b[0m\n",
      "\u001b[1;31mNameError\u001b[0m: name 'dates' is not defined"
     ]
    }
   ],
   "source": [
    "alloc = all_alloc[0]\n",
    "print(alloc)\n",
    "# display(alloc)\n",
    "vessel_types = ['example_wtiv','example_heavy_lift_vessel','example_feeder', 'example_heavy_feeder_1kit','example_ahts_vessel']\n",
    "init_alloc = [alloc['wtiv'][1][1], alloc['wtiv'][0][1], alloc['feeder'][1][1], alloc['feeder'][0][1], alloc['ahts_vessel'][1]]\n",
    "\n",
    "yrs = np.arange(2023,2043)\n",
    "# dates = pd.to_datetime(yrs, format='%Y')\n",
    "vessel_investment = pd.DataFrame(columns=vessel_types, data = np.zeros((len(yrs), len(vessel_types))), index = dates)\n",
    "vessel_investment.iloc[0] = init_alloc\n",
    "display(vessel_investment)"
   ]
  },
  {
   "cell_type": "code",
   "execution_count": 25,
   "metadata": {},
   "outputs": [
    {
     "data": {
      "text/plain": [
       "[[['wtiv',\n",
       "   'example_wtiv_us',\n",
       "   [datetime.date(2030, 1, 1),\n",
       "    datetime.date(2033, 1, 1),\n",
       "    datetime.date(2036, 1, 1)]],\n",
       "  ['wtiv',\n",
       "   'example_heavy_lift_vessel',\n",
       "   [datetime.date(2030, 1, 1),\n",
       "    datetime.date(2033, 1, 1),\n",
       "    datetime.date(2036, 1, 1)]],\n",
       "  ['port', 'arthur_kill', [datetime.date(2027, 1, 1)]],\n",
       "  ['port', 'sbmt', [datetime.date(2027, 1, 1)]],\n",
       "  ['port', 'njwp_1', [datetime.date(2025, 1, 1)]],\n",
       "  ['port', 'njwp_2', [datetime.date(2029, 1, 1)]],\n",
       "  ['port', 'tradepoint_1', [datetime.date(2025, 1, 1)]],\n",
       "  ['port', 'tradepoint_2', [datetime.date(2030, 1, 1)]],\n",
       "  ['port', 'portsmouth_1', [datetime.date(2024, 1, 1)]],\n",
       "  ['port', 'portsmouth_2', [datetime.date(2024, 1, 1)]],\n",
       "  ['port', 'salem', [datetime.date(2026, 1, 1)]],\n",
       "  ['port', 'searsport_1', [datetime.date(2030, 1, 1)]],\n",
       "  ['port', 'searsport_2', [datetime.date(2035, 1, 1)]]]]"
      ]
     },
     "metadata": {},
     "output_type": "display_data"
    }
   ],
   "source": [
    "display(all_future)"
   ]
  },
  {
   "cell_type": "code",
   "execution_count": 26,
   "metadata": {},
   "outputs": [
    {
     "name": "stdout",
     "output_type": "stream",
     "text": [
      "[datetime.date(2030, 1, 1), datetime.date(2033, 1, 1), datetime.date(2036, 1, 1)]\n",
      "3\n"
     ]
    },
    {
     "ename": "NameError",
     "evalue": "name 'vessel_investment' is not defined",
     "output_type": "error",
     "traceback": [
      "\u001b[1;31m---------------------------------------------------------------------------\u001b[0m",
      "\u001b[1;31mNameError\u001b[0m                                 Traceback (most recent call last)",
      "\u001b[1;32m<ipython-input-26-562ff07cd6c7>\u001b[0m in \u001b[0;36m<module>\u001b[1;34m\u001b[0m\n\u001b[0;32m      5\u001b[0m             \u001b[0mprint\u001b[0m\u001b[1;33m(\u001b[0m\u001b[0myears\u001b[0m\u001b[1;33m)\u001b[0m\u001b[1;33m\u001b[0m\u001b[1;33m\u001b[0m\u001b[0m\n\u001b[0;32m      6\u001b[0m             \u001b[0mprint\u001b[0m\u001b[1;33m(\u001b[0m\u001b[0mlen\u001b[0m\u001b[1;33m(\u001b[0m\u001b[0myears\u001b[0m\u001b[1;33m)\u001b[0m\u001b[1;33m)\u001b[0m\u001b[1;33m\u001b[0m\u001b[1;33m\u001b[0m\u001b[0m\n\u001b[1;32m----> 7\u001b[1;33m             \u001b[0mvessel_investment\u001b[0m\u001b[1;33m.\u001b[0m\u001b[0mloc\u001b[0m\u001b[1;33m[\u001b[0m\u001b[0myears\u001b[0m\u001b[1;33m,\u001b[0m\u001b[0mvessel\u001b[0m\u001b[1;33m]\u001b[0m \u001b[1;33m+=\u001b[0m \u001b[0mlen\u001b[0m\u001b[1;33m(\u001b[0m\u001b[0myears\u001b[0m\u001b[1;33m)\u001b[0m\u001b[1;33m\u001b[0m\u001b[1;33m\u001b[0m\u001b[0m\n\u001b[0m\u001b[0;32m      8\u001b[0m     \u001b[1;31m# vessel_investment[vessel] = vessel_investment[vessel] * avg_vessel_costs[vessel]\u001b[0m\u001b[1;33m\u001b[0m\u001b[1;33m\u001b[0m\u001b[1;33m\u001b[0m\u001b[0m\n",
      "\u001b[1;31mNameError\u001b[0m: name 'vessel_investment' is not defined"
     ]
    }
   ],
   "source": [
    "for vessel in vessel_types:\n",
    "    for vessel_type in all_future[0]:\n",
    "        if vessel_type[1] == vessel:\n",
    "            years = vessel_type[2]\n",
    "            print(years)\n",
    "            print(len(years))\n",
    "            vessel_investment.loc[years,vessel] += len(years)\n",
    "    # vessel_investment[vessel] = vessel_investment[vessel] * avg_vessel_costs[vessel]"
   ]
  },
  {
   "cell_type": "code",
   "execution_count": 27,
   "metadata": {},
   "outputs": [
    {
     "ename": "NameError",
     "evalue": "name 'vessel_investment' is not defined",
     "output_type": "error",
     "traceback": [
      "\u001b[1;31m---------------------------------------------------------------------------\u001b[0m",
      "\u001b[1;31mNameError\u001b[0m                                 Traceback (most recent call last)",
      "\u001b[1;32m<ipython-input-27-a3c75b9638a7>\u001b[0m in \u001b[0;36m<module>\u001b[1;34m\u001b[0m\n\u001b[1;32m----> 1\u001b[1;33m \u001b[0mdisplay\u001b[0m\u001b[1;33m(\u001b[0m\u001b[0mvessel_investment\u001b[0m\u001b[1;33m)\u001b[0m\u001b[1;33m\u001b[0m\u001b[1;33m\u001b[0m\u001b[0m\n\u001b[0m",
      "\u001b[1;31mNameError\u001b[0m: name 'vessel_investment' is not defined"
     ]
    }
   ],
   "source": [
    "display(vessel_investment)"
   ]
  },
  {
   "cell_type": "code",
   "execution_count": 28,
   "metadata": {},
   "outputs": [
    {
     "ename": "NameError",
     "evalue": "name 'vessel_investment' is not defined",
     "output_type": "error",
     "traceback": [
      "\u001b[1;31m---------------------------------------------------------------------------\u001b[0m",
      "\u001b[1;31mNameError\u001b[0m                                 Traceback (most recent call last)",
      "\u001b[1;32m<ipython-input-28-be14456707c2>\u001b[0m in \u001b[0;36m<module>\u001b[1;34m\u001b[0m\n\u001b[0;32m      1\u001b[0m \u001b[0mus_vessels\u001b[0m \u001b[1;33m=\u001b[0m \u001b[1;33m[\u001b[0m\u001b[1;34m'example_feeder'\u001b[0m\u001b[1;33m,\u001b[0m \u001b[1;34m'example_heavy_feeder_1kit'\u001b[0m\u001b[1;33m,\u001b[0m \u001b[1;34m'example_ahts_vessel'\u001b[0m\u001b[1;33m]\u001b[0m\u001b[1;33m\u001b[0m\u001b[1;33m\u001b[0m\u001b[0m\n\u001b[0;32m      2\u001b[0m \u001b[0mforeign_vessels\u001b[0m \u001b[1;33m=\u001b[0m \u001b[1;33m[\u001b[0m\u001b[1;34m'example_wtiv'\u001b[0m\u001b[1;33m,\u001b[0m \u001b[1;34m'example_heavy_lift_vessel'\u001b[0m\u001b[1;33m]\u001b[0m\u001b[1;33m\u001b[0m\u001b[1;33m\u001b[0m\u001b[0m\n\u001b[1;32m----> 3\u001b[1;33m \u001b[0mvessel_investment\u001b[0m\u001b[1;33m.\u001b[0m\u001b[0mloc\u001b[0m\u001b[1;33m[\u001b[0m\u001b[1;33m:\u001b[0m\u001b[1;33m,\u001b[0m\u001b[1;34m'us_total'\u001b[0m\u001b[1;33m]\u001b[0m \u001b[1;33m=\u001b[0m \u001b[0mvessel_investment\u001b[0m\u001b[1;33m[\u001b[0m\u001b[0mus_vessels\u001b[0m\u001b[1;33m]\u001b[0m\u001b[1;33m.\u001b[0m\u001b[0msum\u001b[0m\u001b[1;33m(\u001b[0m\u001b[0maxis\u001b[0m\u001b[1;33m=\u001b[0m\u001b[1;36m1\u001b[0m\u001b[1;33m)\u001b[0m\u001b[1;33m\u001b[0m\u001b[1;33m\u001b[0m\u001b[0m\n\u001b[0m\u001b[0;32m      4\u001b[0m \u001b[0mvessel_investment\u001b[0m\u001b[1;33m[\u001b[0m\u001b[1;34m'us_total'\u001b[0m\u001b[1;33m]\u001b[0m \u001b[1;33m=\u001b[0m \u001b[0mvessel_investment\u001b[0m\u001b[1;33m[\u001b[0m\u001b[1;34m'us_total'\u001b[0m\u001b[1;33m]\u001b[0m\u001b[1;33m.\u001b[0m\u001b[0mcumsum\u001b[0m\u001b[1;33m(\u001b[0m\u001b[1;33m)\u001b[0m\u001b[1;33m\u001b[0m\u001b[1;33m\u001b[0m\u001b[0m\n\u001b[0;32m      5\u001b[0m \u001b[0mvessel_investment\u001b[0m\u001b[1;33m.\u001b[0m\u001b[0mloc\u001b[0m\u001b[1;33m[\u001b[0m\u001b[1;33m:\u001b[0m\u001b[1;33m,\u001b[0m\u001b[1;34m'foreign_total'\u001b[0m\u001b[1;33m]\u001b[0m \u001b[1;33m=\u001b[0m \u001b[0mvessel_investment\u001b[0m\u001b[1;33m[\u001b[0m\u001b[0mforeign_vessels\u001b[0m\u001b[1;33m]\u001b[0m\u001b[1;33m.\u001b[0m\u001b[0msum\u001b[0m\u001b[1;33m(\u001b[0m\u001b[0maxis\u001b[0m\u001b[1;33m=\u001b[0m\u001b[1;36m1\u001b[0m\u001b[1;33m)\u001b[0m\u001b[1;33m\u001b[0m\u001b[1;33m\u001b[0m\u001b[0m\n",
      "\u001b[1;31mNameError\u001b[0m: name 'vessel_investment' is not defined"
     ]
    }
   ],
   "source": [
    "us_vessels = ['example_feeder', 'example_heavy_feeder_1kit', 'example_ahts_vessel']\n",
    "foreign_vessels = ['example_wtiv', 'example_heavy_lift_vessel']\n",
    "vessel_investment.loc[:,'us_total'] = vessel_investment[us_vessels].sum(axis=1)\n",
    "vessel_investment['us_total'] = vessel_investment['us_total'].cumsum()\n",
    "vessel_investment.loc[:,'foreign_total'] = vessel_investment[foreign_vessels].sum(axis=1)\n",
    "vessel_investment['foreign_total'] = vessel_investment['foreign_total'].cumsum()\n",
    "display(vessel_investment)"
   ]
  },
  {
   "cell_type": "code",
   "execution_count": 29,
   "metadata": {},
   "outputs": [
    {
     "ename": "NameError",
     "evalue": "name 'vessel_investment' is not defined",
     "output_type": "error",
     "traceback": [
      "\u001b[1;31m---------------------------------------------------------------------------\u001b[0m",
      "\u001b[1;31mNameError\u001b[0m                                 Traceback (most recent call last)",
      "\u001b[1;32m<ipython-input-29-ec9ef9c52c91>\u001b[0m in \u001b[0;36m<module>\u001b[1;34m\u001b[0m\n\u001b[1;32m----> 1\u001b[1;33m \u001b[0mvessel_investment\u001b[0m\u001b[1;33m[\u001b[0m\u001b[1;34m'total'\u001b[0m\u001b[1;33m]\u001b[0m\u001b[1;33m.\u001b[0m\u001b[0mplot\u001b[0m\u001b[1;33m(\u001b[0m\u001b[1;33m)\u001b[0m\u001b[1;33m\u001b[0m\u001b[1;33m\u001b[0m\u001b[0m\n\u001b[0m",
      "\u001b[1;31mNameError\u001b[0m: name 'vessel_investment' is not defined"
     ]
    }
   ],
   "source": [
    "vessel_investment['total'].plot()"
   ]
  },
  {
   "attachments": {},
   "cell_type": "markdown",
   "metadata": {},
   "source": [
    "## Invesment from func"
   ]
  },
  {
   "cell_type": "code",
   "execution_count": 30,
   "metadata": {},
   "outputs": [
    {
     "data": {
      "text/plain": [
       "[{'ahts_vessel': ('example_ahts_vessel', 2),\n",
       "  'feeder': [('example_heavy_feeder_1kit', 6), ('example_feeder', 4)],\n",
       "  'towing_vessel': ('example_towing_vessel', 100),\n",
       "  'wtiv': [('example_heavy_lift_vessel', 3),\n",
       "   ('example_wtiv', 2),\n",
       "   ('example_wtiv_us', 1)],\n",
       "  'port': [('new_london', 1),\n",
       "   ('new_bedford', 1),\n",
       "   ('sbmt', 0),\n",
       "   ('njwp_1', 0),\n",
       "   ('njwp_2', 0),\n",
       "   ('searsport_1', 0),\n",
       "   ('searsport_2', 0),\n",
       "   ('tradepoint_1', 0),\n",
       "   ('tradepoint_2', 0),\n",
       "   ('portsmouth_1', 0),\n",
       "   ('portsmouth_2', 0),\n",
       "   ('salem', 0),\n",
       "   ('arthur_kill', 0)]}]"
      ]
     },
     "metadata": {},
     "output_type": "display_data"
    }
   ],
   "source": [
    "vessel_types = ['example_wtiv','example_heavy_lift_vessel', 'example_feeder', 'example_heavy_feeder_1kit', 'example_ahts_vessel']\n",
    "vessel_costs = {\n",
    "    \"example_wtiv\": 615,\n",
    "    \"example_heavy_lift_vessel\": 625,\n",
    "    \"example_heavy_feeder_1kit\": 250,\n",
    "    \"example_feeder\": 100,\n",
    "    \"example_ahts_vessel\": 80\n",
    "}\n",
    "# display(all_future)\n",
    "display(all_alloc)"
   ]
  },
  {
   "cell_type": "code",
   "execution_count": 31,
   "metadata": {},
   "outputs": [],
   "source": [
    "def investment_plot(allocs, futures, names, vessel_types, vessel_costs):\n",
    "    yrs = np.arange(2023,2043)\n",
    "    dates = pd.to_datetime(yrs, format='%Y')\n",
    "    fig = plt.figure(figsize=(10,4), dpi=200)\n",
    "    ax = fig.add_subplot(111)\n",
    "    investments = pd.DataFrame(index=dates, columns=names, data=np.zeros((len(yrs), len(names))))\n",
    "    for i in range(0,len(names)):\n",
    "        init_alloc = [allocs[i]['wtiv'][1][1], allocs[i]['wtiv'][0][1], allocs[i]['ahts_vessel'][1]]\n",
    "        vessel_investment = pd.DataFrame(columns=vessel_types, data = np.zeros((len(yrs), len(vessel_types))), index = dates)\n",
    "        vessel_investment.iloc[0] = init_alloc\n",
    "\n",
    "        for vessel in vessel_types:\n",
    "            for vessel_type in futures[i]:\n",
    "                if vessel_type[1] == vessel:\n",
    "                    years = vessel_type[2]\n",
    "                    vessel_investment.loc[years,vessel] += 1\n",
    "            vessel_investment[vessel] = vessel_investment[vessel] * vessel_costs[vessel]\n",
    "        \n",
    "        vessel_investment.loc[:,'total'] = vessel_investment.sum(axis=1)\n",
    "        vessel_investment['total'] = vessel_investment['total'].cumsum()\n",
    "\n",
    "        vessel_investment['total'].plot(label=names[i])\n",
    "        investments[names[i]] = vessel_investment['total']\n",
    "    investments['year'] = yrs\n",
    "    investments.set_index('year', inplace=True)\n",
    "    display(investments)\n",
    "    ax.legend()\n",
    "        "
   ]
  },
  {
   "cell_type": "code",
   "execution_count": 34,
   "metadata": {},
   "outputs": [],
   "source": [
    "plt.close()\n",
    "def vessel_investment_plot(allocs, futures, names, vessel_types, vessel_costs):\n",
    "    yrs = np.arange(2023,2043)\n",
    "    dates = pd.to_datetime(yrs, format='%Y')\n",
    "    fig, axes = plt.subplots(2,1, figsize=(10,6), dpi=200, sharex=True)\n",
    "\n",
    "    us_investments = pd.DataFrame(index=dates, columns=names, data=np.zeros((len(yrs), len(names))))\n",
    "    total_investments = pd.DataFrame(index=dates, columns=names, data=np.zeros((len(yrs), len(names))))\n",
    "    foreign_investments = pd.DataFrame(index=dates, columns=names, data=np.zeros((len(yrs), len(names))))\n",
    "    for i in range(0,len(names)):\n",
    "        init_alloc = [allocs[i]['wtiv'][1][1], allocs[i]['wtiv'][0][1], allocs[i]['feeder'][1][1], allocs[i]['feeder'][0][1], allocs[i]['ahts_vessel'][1]]\n",
    "        vessel_investment = pd.DataFrame(columns=vessel_types, data = np.zeros((len(yrs), len(vessel_types))), index = dates)\n",
    "        vessel_investment.iloc[0] = init_alloc\n",
    "        # display(vessel_investment)\n",
    "        for vessel in vessel_types:\n",
    "            for vessel_type in futures[i]:\n",
    "                if vessel_type[1] == vessel:\n",
    "                    years = vessel_type[2]\n",
    "                    # print(vessel_type[1])\n",
    "                    # print(years)\n",
    "                    for year in years:\n",
    "                        vessel_investment.loc[[year],vessel] += 1\n",
    "            # vessel_investment[vessel] = vessel_investment[vessel] * vessel_costs[vessel]\n",
    "        \n",
    "        us_vessels = ['example_feeder', 'example_heavy_feeder_1kit', 'example_ahts_vessel']\n",
    "        foreign_vessels = ['example_wtiv', 'example_heavy_lift_vessel']\n",
    "        vessel_investment.loc[:,'us_total'] = vessel_investment[us_vessels].sum(axis=1)\n",
    "        vessel_investment['us_total'] = vessel_investment['us_total'].cumsum() # / 1000\n",
    "        vessel_investment.loc[:,'foreign_total'] = vessel_investment[foreign_vessels].sum(axis=1)\n",
    "        vessel_investment['foreign_total'] = vessel_investment['foreign_total'].cumsum() # /1000\n",
    "        vessel_investment.loc[:,'total'] = vessel_investment[vessel_types].sum(axis=1)\n",
    "        vessel_investment['total'] = vessel_investment['total'].cumsum() # / 1000\n",
    "\n",
    "        total_investments[names[i]] = vessel_investment['total']\n",
    "        us_investments[names[i]] = vessel_investment['us_total']\n",
    "        foreign_investments[names[i]] = vessel_investment['foreign_total']\n",
    "    us_investments['year'] = yrs\n",
    "    us_investments.set_index('year', inplace=True)\n",
    "\n",
    "    total_investments['year'] = yrs\n",
    "    total_investments.set_index('year', inplace=True)\n",
    "\n",
    "    us_investments['year'] = yrs\n",
    "    us_investments.set_index('year', inplace=True)\n",
    "    us_investments.plot(ax=axes[0])\n",
    "    # display(vessel_investment)\n",
    "\n",
    "    foreign_investments['year'] = yrs\n",
    "    foreign_investments.set_index('year', inplace=True)\n",
    "    foreign_investments.plot(ax=axes[1])\n",
    "\n",
    "    axes[0].set_ylabel('US ($B)')\n",
    "    axes[1].set_ylabel('Foreign ($B)')\n",
    "    axes[0].yaxis.set_major_locator(tck.MaxNLocator(integer=True))\n",
    "    plt.minorticks_off()\n",
    "    # plt.tick_params(bottom = False) \n",
    "    axes[0].set_xticks(yrs[::2])\n",
    "    fig.suptitle('Vessel Investments')\n",
    "    plt.show()\n",
    "\n",
    "    # return us_investments, foreign_investments"
   ]
  },
  {
   "cell_type": "code",
   "execution_count": null,
   "metadata": {},
   "outputs": [],
   "source": []
  },
  {
   "cell_type": "code",
   "execution_count": 36,
   "metadata": {},
   "outputs": [
    {
     "data": {
      "image/png": "[encoded data removed]",
      "text/plain": [
       "<Figure size 2000x1200 with 2 Axes>"
      ]
     },
     "metadata": {},
     "output_type": "display_data"
    }
   ],
   "source": [
    "vessel_investment_plot(all_alloc, all_future, scenarios, vessel_types, vessel_costs)"
   ]
  },
  {
   "attachments": {},
   "cell_type": "markdown",
   "metadata": {},
   "source": [
    "# Installed Capacity CSV"
   ]
  },
  {
   "cell_type": "code",
   "execution_count": null,
   "metadata": {},
   "outputs": [
    {
     "ename": "",
     "evalue": "",
     "output_type": "error",
     "traceback": [
      "\u001b[1;31mRunning cells with 'coral' requires the ipykernel package.\n",
      "\u001b[1;31mRun the following command to install 'ipykernel' into the Python environment. \n",
      "\u001b[1;31mCommand: 'conda install -n coral ipykernel --update-deps --force-reinstall'"
     ]
    }
   ],
   "source": [
    "yrs = np.arange(2023,2043,1)\n",
    "installed_cap = pd.DataFrame(columns=scenarios, data = np.zeros((len(yrs), len(scenarios))), index = yrs)\n",
    "display(installed_cap)\n"
   ]
  },
  {
   "cell_type": "code",
   "execution_count": null,
   "metadata": {},
   "outputs": [
    {
     "ename": "",
     "evalue": "",
     "output_type": "error",
     "traceback": [
      "\u001b[1;31mRunning cells with 'coral' requires the ipykernel package.\n",
      "\u001b[1;31mRun the following command to install 'ipykernel' into the Python environment. \n",
      "\u001b[1;31mCommand: 'conda install -n coral ipykernel --update-deps --force-reinstall'"
     ]
    }
   ],
   "source": [
    "for df in dfs:\n",
    "        df['finished'] = df['Date Finished'].dt.year\n",
    "        df_finished = df.groupby(['finished']).capacity.sum().reset_index()\n",
    "        display(df_finished)\n",
    "\n",
    "        mapping = dict(df_finished[['finished','capacity']].values)\n",
    "        installed_cap['best_path_forward'] = installed_cap.index.map(mapping)\n",
    "        display(installed_cap)"
   ]
  },
  {
   "cell_type": "code",
   "execution_count": null,
   "metadata": {},
   "outputs": [
    {
     "ename": "",
     "evalue": "",
     "output_type": "error",
     "traceback": [
      "\u001b[1;31mRunning cells with 'coral' requires the ipykernel package.\n",
      "\u001b[1;31mRun the following command to install 'ipykernel' into the Python environment. \n",
      "\u001b[1;31mCommand: 'conda install -n coral ipykernel --update-deps --force-reinstall'"
     ]
    }
   ],
   "source": []
  },
  {
   "attachments": {},
   "cell_type": "markdown",
   "metadata": {},
   "source": [
    "# Throughput Plot"
   ]
  },
  {
   "cell_type": "code",
   "execution_count": null,
   "metadata": {},
   "outputs": [
    {
     "ename": "",
     "evalue": "",
     "output_type": "error",
     "traceback": [
      "\u001b[1;31mRunning cells with 'coral' requires the ipykernel package.\n",
      "\u001b[1;31mRun the following command to install 'ipykernel' into the Python environment. \n",
      "\u001b[1;31mCommand: 'conda install -n coral ipykernel --update-deps --force-reinstall'"
     ]
    }
   ],
   "source": [
    "df = dfs[0]"
   ]
  },
  {
   "cell_type": "code",
   "execution_count": null,
   "metadata": {},
   "outputs": [
    {
     "ename": "",
     "evalue": "",
     "output_type": "error",
     "traceback": [
      "\u001b[1;31mRunning cells with 'coral' requires the ipykernel package.\n",
      "\u001b[1;31mRun the following command to install 'ipykernel' into the Python environment. \n",
      "\u001b[1;31mCommand: 'conda install -n coral ipykernel --update-deps --force-reinstall'"
     ]
    }
   ],
   "source": [
    "res = []\n",
    "\n",
    "for _, project in df.iterrows():\n",
    "\n",
    "    if project[\"Date Finished\"].year == project[\"Date Started\"].year:\n",
    "        res.append((project[\"Date Finished\"].year, project[\"port\"], project[\"capacity\"]))\n",
    "\n",
    "    else:\n",
    "\n",
    "        total = project[\"Date Finished\"].date() - project[\"Date Started\"].date()\n",
    "        for year in np.arange(project[\"Date Started\"].year, project[\"Date Finished\"].year + 1):\n",
    "            if year == project[\"Date Started\"].year:\n",
    "                perc = (dt.date(year + 1, 1, 1) - project[\"Date Started\"].date()) / total\n",
    "\n",
    "            elif year == project[\"Date Finished\"].year:\n",
    "                perc = (project[\"Date Finished\"].date() - dt.date(year, 1, 1)) / total\n",
    "\n",
    "            else:\n",
    "                perc = (dt.date(year + 1, 1, 1) - dt.date(year, 1, 1)) / total\n",
    "\n",
    "            res.append((year, project[\"port\"], perc * project[\"capacity\"]))\n",
    "\n",
    "throughput = pd.DataFrame(res, columns=[\"year\", \"port\", \"capacity\"]).pivot_table(\n",
    "    index=[\"year\"],\n",
    "    columns=[\"port\"],\n",
    "    aggfunc=\"sum\",\n",
    "    fill_value=0.\n",
    ")[\"capacity\"]\n",
    "\n",
    "display(throughput)\n",
    "\n",
    "fig = plt.figure(figsize=(6, 4), dpi=200)\n",
    "ax = fig.add_subplot(111)\n",
    "\n",
    "throughput.plot.bar(ax=ax, width=0.75)\n",
    "\n",
    "ax.set_ylim(0, 2000)\n",
    "\n",
    "ax.set_ylabel(\"Annual Capacity Throughput (MW)\")\n",
    "ax.set_xlabel(\"\")\n",
    "\n",
    "plt.xticks(rotation=0, fontsize=6)\n",
    "plt.yticks(fontsize=6)\n",
    "\n",
    "ax.legend(fontsize=6, ncol=5)\n",
    "# fname_t = 'east_coast_analysis/figures/sc_roadmap_gaps/throughput_'+fig_name+'.png'\n",
    "# fig.savefig(fname_t, dpi=300)"
   ]
  },
  {
   "cell_type": "code",
   "execution_count": null,
   "metadata": {},
   "outputs": [
    {
     "ename": "",
     "evalue": "",
     "output_type": "error",
     "traceback": [
      "\u001b[1;31mRunning cells with 'coral' requires the ipykernel package.\n",
      "\u001b[1;31mRun the following command to install 'ipykernel' into the Python environment. \n",
      "\u001b[1;31mCommand: 'conda install -n coral ipykernel --update-deps --force-reinstall'"
     ]
    }
   ],
   "source": [
    "plt.subplot(221)\n",
    "\n",
    "# equivalent but more general\n",
    "ax1 = plt.subplot(2, 2, 1)\n",
    "\n",
    "# add a subplot with no frame\n",
    "ax2 = plt.subplot(222, frameon=False)\n",
    "\n",
    "# add a polar subplot\n",
    "plt.subplot(223, projection='polar')\n",
    "\n",
    "# add a red subplot that shares the x-axis with ax1\n",
    "plt.subplot(224, sharex=ax1, facecolor='red')\n",
    "\n",
    "# delete ax2 from the figure\n",
    "# plt.delaxes(ax2)\n",
    "\n",
    "# # add ax2 to the figure again\n",
    "# plt.subplot(ax2)\n",
    "\n",
    "# make the first Axes \"current\" again\n",
    "plt.subplot(221)"
   ]
  },
  {
   "attachments": {},
   "cell_type": "markdown",
   "metadata": {},
   "source": [
    "# Investment Plot"
   ]
  },
  {
   "cell_type": "code",
   "execution_count": null,
   "metadata": {},
   "outputs": [
    {
     "ename": "",
     "evalue": "",
     "output_type": "error",
     "traceback": [
      "\u001b[1;31mRunning cells with 'coral' requires the ipykernel package.\n",
      "\u001b[1;31mRun the following command to install 'ipykernel' into the Python environment. \n",
      "\u001b[1;31mCommand: 'conda install -n coral ipykernel --update-deps --force-reinstall'"
     ]
    }
   ],
   "source": [
    "fig = plt.figure(figsize=(6, 4), dpi=200)\n",
    "ax = fig.add_subplot(111)\n",
    "# ax.axhline(y=700, color='k', linestyle='-', linewidth=0.8)\n",
    "# ax.axhline(y=1000, color='k', linestyle='-', linewidth=0.8)\n",
    "y1 = ax.step(np.arange(2023,2050), [1000] * len(np.arange(2023,2050)), where='mid', linestyle='-', color='blue')\n",
    "print(len(y1))\n",
    "plt.show()\n",
    "\n",
    "# ax.fill_between(np.arange(2023,2050), 1000, 700, where=(1000>=700), interpolate=True, alpha=0.8, color='#E6E6FA')"
   ]
  },
  {
   "cell_type": "code",
   "execution_count": null,
   "metadata": {},
   "outputs": [
    {
     "ename": "",
     "evalue": "",
     "output_type": "error",
     "traceback": [
      "\u001b[1;31mRunning cells with 'coral' requires the ipykernel package.\n",
      "\u001b[1;31mRun the following command to install 'ipykernel' into the Python environment. \n",
      "\u001b[1;31mCommand: 'conda install -n coral ipykernel --update-deps --force-reinstall'"
     ]
    }
   ],
   "source": []
  }
 ],
 "metadata": {
  "kernelspec": {
   "display_name": "coral",
   "language": "python",
   "name": "python3"
  },
  "language_info": {
   "codemirror_mode": {
    "name": "ipython",
    "version": 3
   },
   "file_extension": ".py",
   "mimetype": "text/x-python",
   "name": "python",
   "nbconvert_exporter": "python",
   "pygments_lexer": "ipython3",
   "version": "3.7.11"
  },
  "orig_nbformat": 4
 },
 "nbformat": 4,
 "nbformat_minor": 2
}
